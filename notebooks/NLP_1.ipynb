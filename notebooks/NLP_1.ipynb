{
  "cells": [
    {
      "cell_type": "markdown",
      "metadata": {
        "id": "1OMx3YRF97Zz"
      },
      "source": [
        "# NLTK (Natural Language Toolkit)\n",
        "\n",
        "\n",
        " - One of the widely used tools in computational linguistics\n",
        " - Open source Python library for NLP\n",
        "\n",
        "From the official web page:\n",
        "\n",
        "\"NLTK is a leading platform for building Python programs to work with human language data. It provides easy-to-use interfaces to over 50 corpora and lexical resources such as WordNet, along with a suite of text processing libraries for classification, tokenization, stemming, tagging, parsing, and semantic reasoning, wrappers for industrial-strength NLP libraries, and an active discussion forum.\"\n"
      ]
    },
    {
      "cell_type": "markdown",
      "metadata": {
        "id": "4r8YQePS97Z1"
      },
      "source": [
        "# Install\n",
        "\n",
        "1. Terminal:\n",
        "`pip install nltk`\n",
        "\n",
        "Jupyter cell:\n",
        "! pip install nltk"
      ]
    },
    {
      "cell_type": "code",
      "execution_count": null,
      "metadata": {
        "colab": {
          "base_uri": "https://localhost:8080/"
        },
        "id": "ytcptZBX97Z1",
        "outputId": "1bbc879e-4b61-4d66-b868-d6ec82b720c4"
      },
      "outputs": [
        {
          "output_type": "stream",
          "name": "stdout",
          "text": [
            "Requirement already satisfied: nltk in /usr/local/lib/python3.10/dist-packages (3.8.1)\n",
            "Requirement already satisfied: click in /usr/local/lib/python3.10/dist-packages (from nltk) (8.1.7)\n",
            "Requirement already satisfied: joblib in /usr/local/lib/python3.10/dist-packages (from nltk) (1.4.2)\n",
            "Requirement already satisfied: regex>=2021.8.3 in /usr/local/lib/python3.10/dist-packages (from nltk) (2024.5.15)\n",
            "Requirement already satisfied: tqdm in /usr/local/lib/python3.10/dist-packages (from nltk) (4.66.5)\n"
          ]
        }
      ],
      "source": [
        "! pip install nltk"
      ]
    },
    {
      "cell_type": "code",
      "execution_count": null,
      "metadata": {
        "colab": {
          "base_uri": "https://localhost:8080/"
        },
        "id": "4t5HJ-7J97Z2",
        "outputId": "dbe78da4-d9c6-45fc-e8dc-acb1b87f9ba8"
      },
      "outputs": [
        {
          "output_type": "stream",
          "name": "stderr",
          "text": [
            "[nltk_data] Downloading package punkt to /root/nltk_data...\n",
            "[nltk_data]   Unzipping tokenizers/punkt.zip.\n",
            "[nltk_data] Downloading package stopwords to /root/nltk_data...\n",
            "[nltk_data]   Unzipping corpora/stopwords.zip.\n",
            "[nltk_data] Downloading package wordnet to /root/nltk_data...\n",
            "[nltk_data] Downloading package averaged_perceptron_tagger to\n",
            "[nltk_data]     /root/nltk_data...\n",
            "[nltk_data]   Unzipping taggers/averaged_perceptron_tagger.zip.\n"
          ]
        },
        {
          "output_type": "execute_result",
          "data": {
            "text/plain": [
              "True"
            ]
          },
          "metadata": {},
          "execution_count": 2
        }
      ],
      "source": [
        "import nltk\n",
        "nltk.download('punkt')\n",
        "nltk.download('stopwords')\n",
        "nltk.download('wordnet')\n",
        "nltk.download('averaged_perceptron_tagger')"
      ]
    },
    {
      "cell_type": "markdown",
      "metadata": {
        "id": "O33b4VUL97Z2"
      },
      "source": [
        "# Tokenization\n",
        "\n",
        "Simplified &rarr; The process that divides text into the constitutient parts that are called tokens. The simple meaningful parts are the words."
      ]
    },
    {
      "cell_type": "code",
      "execution_count": null,
      "metadata": {
        "colab": {
          "base_uri": "https://localhost:8080/"
        },
        "id": "Usaxfo4897Z2",
        "outputId": "4e867c87-c636-4388-ad3f-246e98f3abe2"
      },
      "outputs": [
        {
          "output_type": "stream",
          "name": "stdout",
          "text": [
            "<<<<<<<<<<<< Whitespce tokenizer >>>>>>>>>>>>>>>\n",
            "['It', 'is', 'evident', 'that', \"John's\", 'car', 'is', 'faster', 'than', \"George's,\", \"isn't\", 'it?']\n",
            "<<<<<<<<<<<< Word punctuation tokenizer >>>>>>>>>>>>>>>\n",
            "['It', 'is', 'evident', 'that', 'John', \"'\", 's', 'car', 'is', 'faster', 'than', 'George', \"'\", 's', ',', 'isn', \"'\", 't', 'it', '?']\n",
            "<<<<<<<<<<<< Word tokenizer >>>>>>>>>>>>>>>\n",
            "['It', 'is', 'evident', 'that', 'John', \"'\", 's', 'car', 'is', 'faster', 'than', 'George', \"'\", 's', ',', 'isn', \"'\", 't', 'it', '?']\n",
            "<<<<<<<<<<<< Treebank tokenizer >>>>>>>>>>>>>>>\n",
            "['It', 'is', 'evident', 'that', 'John', \"'s\", 'car', 'is', 'faster', 'than', 'George', \"'s\", ',', 'is', \"n't\", 'it', '?']\n"
          ]
        }
      ],
      "source": [
        "import nltk\n",
        "text = \"It is evident that John's car is faster than George's, isn't it?\"\n",
        "\n",
        "ws_tokenizer = nltk.tokenize.WhitespaceTokenizer()\n",
        "tokenized_text = ws_tokenizer.tokenize(text)\n",
        "print(\"<<<<<<<<<<<< Whitespce tokenizer >>>>>>>>>>>>>>>\")\n",
        "print(tokenized_text)\n",
        "wp_tokenizer = nltk.tokenize.WordPunctTokenizer()\n",
        "tokenized_text = wp_tokenizer.tokenize(text)\n",
        "print(\"<<<<<<<<<<<< Word punctuation tokenizer >>>>>>>>>>>>>>>\")\n",
        "print(tokenized_text)\n",
        "print(\"<<<<<<<<<<<< Word tokenizer >>>>>>>>>>>>>>>\")\n",
        "print(tokenized_text)\n",
        "tb_tokenizer = nltk.tokenize.TreebankWordTokenizer()\n",
        "tokenized_text = tb_tokenizer.tokenize(text)\n",
        "print(\"<<<<<<<<<<<< Treebank tokenizer >>>>>>>>>>>>>>>\")\n",
        "print(tokenized_text)\n",
        "\n"
      ]
    },
    {
      "cell_type": "code",
      "source": [
        "# word tokenization\n",
        "from nltk.tokenize import word_tokenize\n",
        "text = \"This is a Demo Text for NLP using NLTK. Full form of NLTK is Natural Language Toolkit\"\n",
        "tokens = word_tokenize(text)\n",
        "print(f\"Tokens:\\n {tokens}\")\n",
        "\n"
      ],
      "metadata": {
        "colab": {
          "base_uri": "https://localhost:8080/"
        },
        "id": "Z5gDtBHX-TZu",
        "outputId": "b01c8135-deb0-4f6e-c3b4-3342bc6a0b4f"
      },
      "execution_count": null,
      "outputs": [
        {
          "output_type": "stream",
          "name": "stdout",
          "text": [
            "Tokens:\n",
            " ['This', 'is', 'a', 'Demo', 'Text', 'for', 'NLP', 'using', 'NLTK', '.', 'Full', 'form', 'of', 'NLTK', 'is', 'Natural', 'Language', 'Toolkit']\n"
          ]
        }
      ]
    },
    {
      "cell_type": "code",
      "execution_count": null,
      "metadata": {
        "colab": {
          "base_uri": "https://localhost:8080/"
        },
        "id": "yIxIlAzE97Z2",
        "outputId": "e3bb8e7a-2841-4893-f505-5e2178a04edf"
      },
      "outputs": [
        {
          "output_type": "stream",
          "name": "stdout",
          "text": [
            "<<<<<<<<<<<< Sentence tokenizer >>>>>>>>>>>>>>>\n",
            "['Albert Einstein was born in Ulm, Germany in 1879.', 'He completed his Ph.D. at the University of Zurich.', 'In 1905, he published four groundbreaking papers.', 'He won the Nobel Prize in Physics in 1921.']\n"
          ]
        }
      ],
      "source": [
        "# sentence tokenization\n",
        "from nltk.tokenize import sent_tokenize\n",
        "text = \"\"\"Albert Einstein was born in Ulm, Germany in 1879. He completed his Ph.D. at the University of Zurich.\n",
        "In 1905, he published four groundbreaking papers. He won the Nobel Prize in Physics in 1921.\"\"\"\n",
        "tokens = sent_tokenize(text)\n",
        "print(\"<<<<<<<<<<<< Sentence tokenizer >>>>>>>>>>>>>>>\")\n",
        "print(tokens)"
      ]
    },
    {
      "cell_type": "markdown",
      "source": [
        "# Stop words removal\n",
        "\n",
        "The process of removing \"irrelevant\" words that are too frequent in natural language (e.g. in, at, or, that, etc. in English) and do not contribute significantly to the meaning or context of the text is known as stopword removal."
      ],
      "metadata": {
        "id": "vjipjyap--iR"
      }
    },
    {
      "cell_type": "code",
      "source": [
        "import nltk\n",
        "from nltk.corpus import stopwords\n",
        "stpwrds = stopwords.words('english')\n",
        "text = \"\"\"Albert Einstein was born in Ulm, Germany in 1879. He completed his Ph.D. at the University of Zurich.\n",
        "In 1905, he published four groundbreaking papers. He won the Nobel Prize in Physics in 1921. This is a basic information related to AE.\"\"\"\n",
        "\n",
        "tokens = nltk.word_tokenize(text)\n",
        "without_stopwords = [word for word in tokens if word not in stpwrds]\n",
        "print(without_stopwords)\n"
      ],
      "metadata": {
        "colab": {
          "base_uri": "https://localhost:8080/"
        },
        "id": "v4yEdjsV_uTs",
        "outputId": "516b6a60-df4b-439f-fc3e-0c3ba8e680d5"
      },
      "execution_count": null,
      "outputs": [
        {
          "output_type": "stream",
          "name": "stdout",
          "text": [
            "['Albert', 'Einstein', 'born', 'Ulm', ',', 'Germany', '1879', '.', 'He', 'completed', 'Ph.D.', 'University', 'Zurich', '.', 'In', '1905', ',', 'published', 'four', 'groundbreaking', 'papers', '.', 'He', 'Nobel', 'Prize', 'Physics', '1921', '.', 'This', 'basic', 'information', 'related', 'AE', '.']\n"
          ]
        }
      ]
    },
    {
      "cell_type": "markdown",
      "source": [
        "# Text normalization techniques\n",
        "\n",
        "After tokenization, and normalizing word formats we can perform:\n",
        "\n",
        "- case folding\n",
        "- stemming\n",
        "- lemattization"
      ],
      "metadata": {
        "id": "h7yujWUwA6r4"
      }
    },
    {
      "cell_type": "code",
      "source": [
        "# case folding\n",
        "\n",
        "text = \"\"\"Albert Einstein was born in Ulm, Germany in 1879. He completed his Ph.D. at the University of Zurich.\n",
        "In 1905, he published four groundbreaking papers. He won the Nobel Prize in Physics in 1921. This is a basic information related to AE.\"\"\"\n",
        "\n",
        "cf_text = text.lower()\n",
        "print(cf_text)\n"
      ],
      "metadata": {
        "colab": {
          "base_uri": "https://localhost:8080/"
        },
        "id": "vMycNSrSC4RY",
        "outputId": "e5430e61-fb14-473f-87ea-41d2f35ad89d"
      },
      "execution_count": null,
      "outputs": [
        {
          "output_type": "stream",
          "name": "stdout",
          "text": [
            "albert einstein was born in ulm, germany in 1879. he completed his ph.d. at the university of zurich. \n",
            "in 1905, he published four groundbreaking papers. he won the nobel prize in physics in 1921. this is a basic information related to ae.\n"
          ]
        }
      ]
    },
    {
      "cell_type": "markdown",
      "source": [
        "# Stemming\n",
        "\n",
        "Stemming is the process of reducing inflected (or sometimes derived) words to their word stem, base or root form.\n",
        "\n",
        "Stemming is another text normalization technique similar to lemmatization, used in natural language processing and information retrieval. The primary goal of stemming is to reduce inflected or derived words to their root form, but unlike lemmatization, the root form produced by stemming may not always be a valid or meaningful word in the language.\n",
        "\n",
        "For example, stemming would reduce the words \"running,\" \"runner,\" and \"ran\" to the root \"run,\" similar to lemmatization. However, stemming could also reduce the word \"flies\" to \"fli\" or \"happiness\" to \"happi,\" which are not meaningful or valid words in English."
      ],
      "metadata": {
        "id": "DZKzba7eDRMk"
      }
    },
    {
      "cell_type": "code",
      "source": [
        "import nltk\n",
        "from nltk.corpus import stopwords\n",
        "from nltk.stem import SnowballStemmer\n",
        "from nltk.stem.porter import PorterStemmer\n",
        "#is based on The Porter Stemming Algorithm\n",
        "stopword = stopwords.words('english')\n",
        "snowball_stemmer = SnowballStemmer('english')\n",
        "porter_stemmer = PorterStemmer()\n",
        "text = \"the dogs are barking outside. Are the cats in the garden? Books are on the shelfs. Running is the good way of recreation.\"\n",
        "word_tokens = nltk.word_tokenize(text)\n",
        "stemmed_word_snowball = [snowball_stemmer.stem(word) for word in word_tokens]\n",
        "stemmed_word_porter = [porter_stemmer.stem(word) for word in word_tokens]\n",
        "print (f\"Snowball:\\n{stemmed_word_snowball}\")\n",
        "print(f\"Porter:\\n{stemmed_word_porter}\")"
      ],
      "metadata": {
        "colab": {
          "base_uri": "https://localhost:8080/"
        },
        "id": "ez8JU48zDx1p",
        "outputId": "3965819d-a60e-4a0d-bdbb-6ea6fea413e8"
      },
      "execution_count": null,
      "outputs": [
        {
          "output_type": "stream",
          "name": "stdout",
          "text": [
            "Snowball:\n",
            "['the', 'dog', 'are', 'bark', 'outsid', '.', 'are', 'the', 'cat', 'in', 'the', 'garden', '?', 'book', 'are', 'on', 'the', 'shelf', '.', 'run', 'is', 'the', 'good', 'way', 'of', 'recreat', '.']\n",
            "Porter:\n",
            "['the', 'dog', 'are', 'bark', 'outsid', '.', 'are', 'the', 'cat', 'in', 'the', 'garden', '?', 'book', 'are', 'on', 'the', 'shelf', '.', 'run', 'is', 'the', 'good', 'way', 'of', 'recreat', '.']\n"
          ]
        }
      ]
    },
    {
      "cell_type": "markdown",
      "source": [
        "# Lemattization\n",
        "\n",
        "Another text normalization technique.\n",
        "\n",
        "Lemmatization is a linguistic process that reduces inflected or derived words to their root or base form, known as the \"lemma.\" For example, \"running,\" \"runs,\" and \"ran\" are all derived from the base word, \"run.\"\n",
        "\n",
        "In natural language processing (NLP), lemmatization is often used to group different forms of a word so that they can be analyzed as a single entity. This is useful in various tasks like text mining, text analysis, and information retrieval, as it allows these systems to generalize better across different forms of a word, thereby increasing the accuracy and effectiveness of such systems.\n",
        "\n",
        "NLTK includes a lemmatization utility that helps in reducing words to their base or root form."
      ],
      "metadata": {
        "id": "phXxTwMXFRjo"
      }
    },
    {
      "cell_type": "code",
      "source": [
        "import nltk\n",
        "from nltk.corpus import stopwords\n",
        "from nltk.stem import WordNetLemmatizer\n",
        "#is based on The Porter Stemming Algorithm\n",
        "stopword = stopwords.words('english')\n",
        "wordnet_lemmatizer = WordNetLemmatizer()\n",
        "text = \"the dogs are barking outside. Are the cats in the garden? Books are on the shelfs. Running is the good way of recreation.\"\n",
        "word_tokens = nltk.word_tokenize(text)\n",
        "lemmatized_word = [wordnet_lemmatizer.lemmatize(word) for word in word_tokens]\n",
        "print (lemmatized_word)"
      ],
      "metadata": {
        "colab": {
          "base_uri": "https://localhost:8080/"
        },
        "id": "b-FtDOdEFm71",
        "outputId": "10fa67ff-573e-416d-d104-a01e23b2d10a"
      },
      "execution_count": null,
      "outputs": [
        {
          "output_type": "stream",
          "name": "stdout",
          "text": [
            "['the', 'dog', 'are', 'barking', 'outside', '.', 'Are', 'the', 'cat', 'in', 'the', 'garden', '?', 'Books', 'are', 'on', 'the', 'shelf', '.', 'Running', 'is', 'the', 'good', 'way', 'of', 'recreation', '.']\n"
          ]
        }
      ]
    },
    {
      "cell_type": "markdown",
      "source": [
        "# Comparison - complexity and speed\n",
        "\n",
        "- **Algorithm Complexity**: Lemmatization is generally more complex and computationally expensive compared to stemming. This is because lemmatization often requires additional contextual information such as the part of speech of a word and relies on dictionaries or vocabularies.\n",
        "\n",
        "- **Speed**: Stemming algorithms are typically faster because they operate on a set of heuristics or rules and don't require additional resources like a vocabulary or dictionary. This makes stemming suitable for tasks where speed is a critical factor."
      ],
      "metadata": {
        "id": "A4S3LXuaGESv"
      }
    },
    {
      "cell_type": "markdown",
      "source": [
        "# Word frequency\n",
        "\n",
        "Counting the occurrences of the words in the text."
      ],
      "metadata": {
        "id": "guo45LNRGZf_"
      }
    },
    {
      "cell_type": "code",
      "source": [
        "import nltk\n",
        "from nltk import FreqDist\n",
        "import matplotlib.pyplot as plt\n",
        "\n",
        "# Sample text\n",
        "text = \"\"\"\n",
        "In natural language processing (NLP), lemmatization is often used to group different forms of a word so that they can be analyzed as a single entity.\n",
        "This is useful in various tasks like text mining, text analysis, and information retrieval, as it allows these systems to generalize better across\n",
        "different forms of a word, thereby increasing the accuracy and effectiveness of such systems. Repeat, repeat, repeat, repeat, repeat, repeat.\"\"\"\n",
        "\n",
        "# Tokenize the text\n",
        "words = nltk.word_tokenize(text.lower())\n",
        "\n",
        "# Calculate frequency distribution\n",
        "freq = FreqDist(words)\n",
        "n = 8\n",
        "print(freq.most_common(n))\n",
        "# Get the n most common words and their frequencies\n",
        "most_common = freq.most_common(n)\n",
        "words, counts = zip(*most_common)  # Unzip the most common words and their counts\n",
        "\n",
        "# Plot the frequency distribution as a bar chart\n",
        "plt.figure(figsize=(10, 6))\n",
        "plt.bar(words, counts, color='skyblue')\n",
        "plt.xlabel('Words')\n",
        "plt.ylabel('Frequency')\n",
        "plt.title(f'Top {n} Word Frequencies in Text')\n",
        "plt.show();\n"
      ],
      "metadata": {
        "colab": {
          "base_uri": "https://localhost:8080/",
          "height": 581
        },
        "id": "RuD8n-ItGgAQ",
        "outputId": "b62b1fa4-a2dd-4416-81b8-bcb4de61d046"
      },
      "execution_count": null,
      "outputs": [
        {
          "output_type": "stream",
          "name": "stdout",
          "text": [
            "[(',', 10), ('repeat', 6), ('of', 3), ('a', 3), ('.', 3), ('in', 2), ('is', 2), ('to', 2)]\n"
          ]
        },
        {
          "output_type": "display_data",
          "data": {
            "text/plain": [
              "<Figure size 1000x600 with 1 Axes>"
            ],
            "image/png": "[encoded data removed]"
          },
          "metadata": {}
        }
      ]
    },
    {
      "cell_type": "markdown",
      "source": [
        "Try to solve same problem by removing punctuations from the text."
      ],
      "metadata": {
        "id": "-NmwaWYbI5wG"
      }
    },
    {
      "cell_type": "markdown",
      "source": [
        "# Part Of speech tagging (POS)\n",
        "\n",
        "Part-of-speech tagging (POS Tagging) is the process of taking a sequence of words and assigning each word a part of speech, such as NOUN, VERB, ADVERB, etc.\n",
        "\n",
        "POS tagging is an important task in Natural Language Processing (NLP) for several reasons:\n",
        "\n",
        " - It helps in understanding the structure and meaning of sentences.\n",
        " - It's useful for various downstream NLP tasks like named entity recognition, sentiment analysis, and machine translation.\n",
        " - It aids in word sense disambiguation and information retrieval."
      ],
      "metadata": {
        "id": "q2_klB5LJFIB"
      }
    },
    {
      "cell_type": "code",
      "source": [
        "import nltk\n",
        "text = \"\"\"\n",
        "Stemming algorithms are typically faster because they operate on a set of heuristics or rules and don't require additional resources like a vocabulary or dictionary.\n",
        "This makes stemming suitable for tasks where speed is a critical factor.\n",
        "\"\"\"\n",
        "word = nltk.word_tokenize(text)\n",
        "pos_tag = nltk.pos_tag(word)\n",
        "print (pos_tag)"
      ],
      "metadata": {
        "colab": {
          "base_uri": "https://localhost:8080/"
        },
        "id": "S346XxagKgn_",
        "outputId": "bdfd3a69-42e9-49a7-c1b8-3f1f527a2f0a"
      },
      "execution_count": null,
      "outputs": [
        {
          "output_type": "stream",
          "name": "stdout",
          "text": [
            "[('Stemming', 'VBG'), ('algorithms', 'NNS'), ('are', 'VBP'), ('typically', 'RB'), ('faster', 'RBR'), ('because', 'IN'), ('they', 'PRP'), ('operate', 'VBP'), ('on', 'IN'), ('a', 'DT'), ('set', 'NN'), ('of', 'IN'), ('heuristics', 'NNS'), ('or', 'CC'), ('rules', 'NNS'), ('and', 'CC'), ('do', 'VBP'), (\"n't\", 'RB'), ('require', 'VB'), ('additional', 'JJ'), ('resources', 'NNS'), ('like', 'IN'), ('a', 'DT'), ('vocabulary', 'JJ'), ('or', 'CC'), ('dictionary', 'JJ'), ('.', '.'), ('This', 'DT'), ('makes', 'VBZ'), ('stemming', 'VBG'), ('suitable', 'JJ'), ('for', 'IN'), ('tasks', 'NNS'), ('where', 'WRB'), ('speed', 'NN'), ('is', 'VBZ'), ('a', 'DT'), ('critical', 'JJ'), ('factor', 'NN'), ('.', '.')]\n"
          ]
        }
      ]
    },
    {
      "cell_type": "markdown",
      "source": [
        "The `nltk.pos_tag` function in the Natural Language Toolkit (NLTK) library for Python tags parts of speech according to the Penn Treebank POS tags. The Penn Treebank is one of the most commonly used sets of part-of-speech tags, and it's frequently used in academic and industrial NLP research.\n",
        "\n",
        "Here are some commonly used Penn Treebank POS tags and their meanings:\n",
        "\n",
        "- `NN`: Noun, singular or mass\n",
        "- `NNS`: Noun, plural\n",
        "- `VB`: Verb, base form\n",
        "- `VBD`: Verb, past tense\n",
        "- `VBG`: Verb, gerund or present participle\n",
        "- `VBN`: Verb, past participle\n",
        "- `VBP`: Verb, non-3rd person singular present\n",
        "- `VBZ`: Verb, 3rd person singular present\n",
        "- `JJ`: Adjective\n",
        "- `JJR`: Adjective, comparative\n",
        "- `JJS`: Adjective, superlative\n",
        "- `RB`: Adverb\n",
        "- `RBR`: Adverb, comparative\n",
        "- `RBS`: Adverb, superlative\n",
        "- `IN`: Preposition or subordinating conjunction\n",
        "- `DT`: Determiner\n",
        "- `CC`: Coordinating conjunction\n",
        "- `PRP`: Personal pronoun\n",
        "- `PRP$`: Possessive pronoun\n",
        "- `MD`: Modal\n",
        "- `CD`: Cardinal number\n",
        "- `WP`: Wh-pronoun\n",
        "- `WDT`: Wh-determiner\n",
        "\n",
        "... and many more.\n",
        "\n",
        "For a more comprehensive list of these part-of-speech tags and their explanations, you can refer to the [Penn Treebank POS Tags](https://www.ling.upenn.edu/courses/Fall_2003/ling001/penn_treebank_pos.html) webpage."
      ],
      "metadata": {
        "id": "WiH1VTimMrlY"
      }
    },
    {
      "cell_type": "code",
      "source": [
        "import spacy as sp\n",
        "spa = sp.load(\"en_core_web_sm\")\n",
        "processed = spa(text)\n",
        "for token in processed:\n",
        "  print(f\"{token.text:{15}} | {token.pos_:{10}} | {token.tag_:{8}} | {sp.explain(token.tag_)}\")"
      ],
      "metadata": {
        "colab": {
          "base_uri": "https://localhost:8080/"
        },
        "id": "MtN0o8duKvXy",
        "outputId": "4757b973-b92b-4425-b194-7d20777cf0a0"
      },
      "execution_count": null,
      "outputs": [
        {
          "output_type": "stream",
          "name": "stdout",
          "text": [
            "\n",
            "               | SPACE      | _SP      | whitespace\n",
            "Stemming        | PROPN      | NNP      | noun, proper singular\n",
            "algorithms      | NOUN       | NNS      | noun, plural\n",
            "are             | AUX        | VBP      | verb, non-3rd person singular present\n",
            "typically       | ADV        | RB       | adverb\n",
            "faster          | ADJ        | JJR      | adjective, comparative\n",
            "because         | SCONJ      | IN       | conjunction, subordinating or preposition\n",
            "they            | PRON       | PRP      | pronoun, personal\n",
            "operate         | VERB       | VBP      | verb, non-3rd person singular present\n",
            "on              | ADP        | IN       | conjunction, subordinating or preposition\n",
            "a               | DET        | DT       | determiner\n",
            "set             | NOUN       | NN       | noun, singular or mass\n",
            "of              | ADP        | IN       | conjunction, subordinating or preposition\n",
            "heuristics      | NOUN       | NNS      | noun, plural\n",
            "or              | CCONJ      | CC       | conjunction, coordinating\n",
            "rules           | NOUN       | NNS      | noun, plural\n",
            "and             | CCONJ      | CC       | conjunction, coordinating\n",
            "do              | AUX        | VBP      | verb, non-3rd person singular present\n",
            "n't             | PART       | RB       | adverb\n",
            "require         | VERB       | VB       | verb, base form\n",
            "additional      | ADJ        | JJ       | adjective (English), other noun-modifier (Chinese)\n",
            "resources       | NOUN       | NNS      | noun, plural\n",
            "like            | ADP        | IN       | conjunction, subordinating or preposition\n",
            "a               | DET        | DT       | determiner\n",
            "vocabulary      | NOUN       | NN       | noun, singular or mass\n",
            "or              | CCONJ      | CC       | conjunction, coordinating\n",
            "dictionary      | ADJ        | JJ       | adjective (English), other noun-modifier (Chinese)\n",
            ".               | PUNCT      | .        | punctuation mark, sentence closer\n",
            "\n",
            "               | SPACE      | _SP      | whitespace\n",
            "This            | PRON       | DT       | determiner\n",
            "makes           | VERB       | VBZ      | verb, 3rd person singular present\n",
            "stemming        | VERB       | VBG      | verb, gerund or present participle\n",
            "suitable        | ADJ        | JJ       | adjective (English), other noun-modifier (Chinese)\n",
            "for             | ADP        | IN       | conjunction, subordinating or preposition\n",
            "tasks           | NOUN       | NNS      | noun, plural\n",
            "where           | SCONJ      | WRB      | wh-adverb\n",
            "speed           | NOUN       | NN       | noun, singular or mass\n",
            "is              | AUX        | VBZ      | verb, 3rd person singular present\n",
            "a               | DET        | DT       | determiner\n",
            "critical        | ADJ        | JJ       | adjective (English), other noun-modifier (Chinese)\n",
            "factor          | NOUN       | NN       | noun, singular or mass\n",
            ".               | PUNCT      | .        | punctuation mark, sentence closer\n",
            "\n",
            "               | SPACE      | _SP      | whitespace\n"
          ]
        }
      ]
    }
  ],
  "metadata": {
    "kernelspec": {
      "display_name": "Python 3",
      "language": "python",
      "name": "python3"
    },
    "language_info": {
      "codemirror_mode": {
        "name": "ipython",
        "version": 3
      },
      "file_extension": ".py",
      "mimetype": "text/x-python",
      "name": "python",
      "nbconvert_exporter": "python",
      "pygments_lexer": "ipython3",
      "version": "3.11.0"
    },
    "colab": {
      "provenance": []
    }
  },
  "nbformat": 4,
  "nbformat_minor": 0
}