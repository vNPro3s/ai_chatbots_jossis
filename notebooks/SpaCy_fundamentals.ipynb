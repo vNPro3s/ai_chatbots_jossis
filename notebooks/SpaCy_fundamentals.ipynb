{
  "nbformat": 4,
  "nbformat_minor": 0,
  "metadata": {
    "colab": {
      "provenance": []
    },
    "kernelspec": {
      "display_name": "Python 3",
      "language": "python",
      "name": "python3"
    },
    "language_info": {
      "codemirror_mode": {
        "name": "ipython",
        "version": 3
      },
      "file_extension": ".py",
      "mimetype": "text/x-python",
      "name": "python",
      "nbconvert_exporter": "python",
      "pygments_lexer": "ipython3",
      "version": "3.8.5"
    }
  },
  "cells": [
    {
      "cell_type": "markdown",
      "metadata": {
        "id": "uW3iwPV2E2dd"
      },
      "source": [
        "## Name Entity Recognition\n",
        "\n",
        "In the first notebook, we introduced the concept of POS tagging.\n",
        "\n",
        "In general, Parts of Speech tagging (also known as POS) and named entities are valuable clues to sentence structure and meaning.\n",
        "\n",
        "Knowing whether a word is a noun or a verb tells us about likely neighboring words (nouns in English are preceded by determiners and adjectives, verbs by nouns) and syntactic structure (verbs have dependency links to nouns), making. Part-of-speech tagging, a vital element of parsing, holds significant importance in the field of natural language processing.\n",
        "\n",
        "Another proper tagging is related to emphasizing names to give a more relevant set of information:\n",
        "\n",
        "**Named entity recognition (NER)**\n",
        "\n",
        "Named entity recognition (NER), assigning words or phrases tags like PERSON, LOCATION, ORGANIZATION, …\n",
        "\n",
        "This notebook will show how to perform tokenization, stop-word filtering, POS tagging, and NER using SpaCy. Also, word frequency and word vector representation will be of interest.\n",
        "\n"
      ]
    },
    {
      "cell_type": "markdown",
      "source": [
        "# SpaCy\n",
        "\n",
        "Like NLTK, Spacy is an open-source Natural Language Processing Python library for text processing and analysis. It provides tools for various NLP tasks, such is tokenization, POS tagging, NER, dependency parsing, etc."
      ],
      "metadata": {
        "id": "gG0rvH7GbX_7"
      }
    },
    {
      "cell_type": "code",
      "metadata": {
        "id": "AqXoKE92E2df"
      },
      "source": [
        "import spacy"
      ],
      "execution_count": 1,
      "outputs": []
    },
    {
      "cell_type": "markdown",
      "metadata": {
        "id": "npNYHJEVPfdZ"
      },
      "source": [
        "## Convert text to lower case:"
      ]
    },
    {
      "cell_type": "code",
      "metadata": {
        "id": "nNrAxkSBPfdY",
        "scrolled": true
      },
      "source": [
        "# loading pre-trained nlp model for the English language\n",
        "# loading that model several components of the NLP pipline are available\n",
        "# tokenizer, tagger (POS), parser, NER, lemmatizer, dates, etc.\n",
        "try:\n",
        "    nlp = spacy.load('en_core_web_sm')\n",
        "except:\n",
        "    # install english language model\n",
        "    !python -m spacy download en\n",
        "    nlp = spacy.load('en_core_web_sm')"
      ],
      "execution_count": 7,
      "outputs": []
    },
    {
      "cell_type": "code",
      "metadata": {
        "colab": {
          "base_uri": "https://localhost:8080/"
        },
        "id": "AL4RU73gPfdZ",
        "outputId": "02660ec8-0dc5-4875-987f-b485a0608529"
      },
      "source": [
        "text = \"Vienna is the national capital, largest city, and one of nine states of Austria. Vienna is Austria's most populous city, with about 1.9 million inhabitants\"\n",
        "\n",
        "lower_text = text.lower()\n",
        "cf_text = text.casefold()\n",
        "print(lower_text)\n",
        "print(cf_text)\n",
        "print(lower_text==cf_text)\n",
        "\n",
        "# use casefold for robust case folding when you have international special characters in the input text"
      ],
      "execution_count": 5,
      "outputs": [
        {
          "output_type": "stream",
          "name": "stdout",
          "text": [
            "vienna is the national capital, largest city, and one of nine states of austria. vienna is austria's most populous city, with about 1.9 million inhabitants\n",
            "vienna is the national capital, largest city, and one of nine states of austria. vienna is austria's most populous city, with about 1.9 million inhabitants\n",
            "True\n"
          ]
        }
      ]
    },
    {
      "cell_type": "markdown",
      "metadata": {
        "id": "RLCwxQEyPfda"
      },
      "source": [
        "## Word Tokenize\n",
        "Tokenize sentences to get the tokens of the text i.e breaking the sentences into words."
      ]
    },
    {
      "cell_type": "code",
      "metadata": {
        "colab": {
          "base_uri": "https://localhost:8080/"
        },
        "id": "jg0yGgXjPfdb",
        "outputId": "7f16c1d4-e88a-4005-9a97-141784c1886b"
      },
      "source": [
        "doc = nlp(text)\n",
        "words = [token.text for token in doc]\n",
        "print (words)"
      ],
      "execution_count": 14,
      "outputs": [
        {
          "output_type": "stream",
          "name": "stdout",
          "text": [
            "['Vienna', 'is', 'the', 'national', 'capital', ',', 'largest', 'city', ',', 'and', 'one', 'of', 'nine', 'states', 'of', 'Austria', '.', 'Vienna', 'is', 'Austria', \"'s\", 'most', 'populous', 'city', ',', 'with', 'about', '1.9', 'million', 'inhabitants']\n"
          ]
        }
      ]
    },
    {
      "cell_type": "markdown",
      "metadata": {
        "id": "Gq84DU24Pfdb"
      },
      "source": [
        "## Sentence tokenize\n",
        "Tokenize sentences if the there are more than 1 sentence i.e breaking the sentences to list of sentence."
      ]
    },
    {
      "cell_type": "code",
      "metadata": {
        "colab": {
          "base_uri": "https://localhost:8080/"
        },
        "id": "8KMhnaUoPfdc",
        "outputId": "2dee07c9-5848-43f7-9fed-112051c2eb12"
      },
      "source": [
        "print(f\"Type of the doc object: {type(doc)}\")\n",
        "print(doc.sents)\n",
        "list(doc.sents)"
      ],
      "execution_count": 15,
      "outputs": [
        {
          "output_type": "stream",
          "name": "stdout",
          "text": [
            "Type of the doc object: <class 'spacy.tokens.doc.Doc'>\n",
            "<generator object at 0x7cbd7ad08180>\n"
          ]
        },
        {
          "output_type": "execute_result",
          "data": {
            "text/plain": [
              "[Vienna is the national capital, largest city, and one of nine states of Austria.,\n",
              " Vienna is Austria's most populous city, with about 1.9 million inhabitants]"
            ]
          },
          "metadata": {},
          "execution_count": 15
        }
      ]
    },
    {
      "cell_type": "markdown",
      "metadata": {
        "id": "CfRmsZJPPfdc"
      },
      "source": [
        "## Stop-Word removal\n",
        "Remove irrelevant words using nltk stop words like is,the,a etc from the sentences as they don’t carry any information."
      ]
    },
    {
      "cell_type": "code",
      "source": [
        "sample_text = \"\"\"\n",
        "On Education\n",
        "Albert Einstein\n",
        "Excerpts from an address by Albert Einstein to the State University of New York at\n",
        "Albany, on the occasion of the celebration of the tercentenary of higher education in\n",
        "America, 15th October, 1936. Reference - “Ideas and Opinions” by Albert Einstein\n",
        "A day of celebration generally is in the first place dedicated to retrospect, especially\n",
        "to the memory of personages who have gained special distinction for the development of the cultural life. This friendly service for our predecessors must indeed not\n",
        "be neglected, particularly as such a memory of the best of the past is proper to\n",
        "simulate the well-disposed of today to a courageous effort. But this should be done\n",
        "by someone who, from his youth, has been connected with this State and is familiar\n",
        "with its past, not by one who like a gypsy has wondered about and gathered his\n",
        "experiences in all kinds of countries.\n",
        "Thus, there is nothing else left for me but to speak about such questions as, independently of space and time, always have been and will be connected with educational\n",
        "matters. In this attempt I cannot lay any claim to being an authority, especially as\n",
        "intelligent and well-meaning men of all times have dealt with educational problems\n",
        "and have certainly repeatedly expressed their view clearly about these matters.\n",
        "From what source shall I, as a partial layman in the realm of pedagogy, derive\n",
        "courage to expound opinions with no foundations except personal experience and\n",
        "personal conviction? If it were really a scientific matter, one would probably be\n",
        "tempted to silence by such considerations.\n",
        "However, with the affairs of active human beings it is different. Here, knowledge\n",
        "of truth alone does not suffice; on the contrary this knowledge must continually\n",
        "be renewed by ceaseless effort, if it is not be lost. It resembles a statue of marble which stands in the desert and is continually threatened with burial by the\n",
        "shifting sand. The hands of service must ever be at work, in order that the marble\n",
        "continue lastingly to shine in the sun. To these serving hands mine shall also belong.\n",
        "The school has always been the most important means of transferring the wealth\n",
        "of tradition from one generation to the next. This applies today in an even higher\n",
        "degree than in former times, for through modern development of the economic life,\n",
        "the family as bearer of tradition and education has been weakened. The continuance and health of human society is therefore in a still higher degree dependent on\n",
        "the school than formerly.\n",
        "Sometimes one sees in the school simply the instrument for transferring a certain\n",
        "maximum quantity of knowledge to the growing generation. But that’s not right.\n",
        "Knowledge is dead; the school, however, serves the living. It should develop in the\n",
        "young individuals those qualities and capabilities which are of value for the welfare of the Commonwealth. But that does not mean that individuality should be\n",
        "destroyed and the individual becomes a mere tool of the community, like a bee or\n",
        "an ant. A community of standardized individuals without personal originality and\n",
        "personal aims would be a poor community with no scope for development. On the\n",
        "1\n",
        "contrary, the aim must be the training of independently acting and thinking individuals, who, however, see in the service of the community their highest life problem.\n",
        "But how shall one try to attain this ideal? Should one perhaps try to realize this\n",
        "aim by moralizing? Not at all. Words are and remain empty sound, and the road\n",
        "to perdition1 has ever been accompanied by lip service to an ideal. But personalities are not formed by what is heard and said but by labor and activity. The\n",
        "most important method of education accordingly always has consisted of the where\n",
        "pupil was urged to actual performance. This applies as well to the first attempts\n",
        "at writings of the primary boy as to the doctor’s thesis on graduation from the\n",
        "university, or as to the mere memorizing of a poem, the writing of a composition,\n",
        "the interpretation and translation of a text, the solving of a mathematical problem\n",
        "or the practice of a physical sport.\n",
        "But behind every achievement exists the motivation which is at the foundation of\n",
        "it and which in turn is strengthened and nourished by the accomplishment of the\n",
        "undertaking. Here there are the greatest differences and they are of greatest importance to the educational value of the school. The same work may owe its origin to\n",
        "fear and compulsion, ambitious desire for authority and distinction, or loving interest in the object and a desire for truth and understanding, and thus to that divine\n",
        "curiosity which every healthy child possesses, but which so often is weakened early.\n",
        "The educational influence which is exercised upon the pupil by the accomplishment\n",
        "of one and the same work may be widely different, depending upon whether fear\n",
        "of hurt, egoistic passion, or desire for pleasure and satisfaction is at the bottom of\n",
        "this work.\n",
        "And nobody will maintain that the administration of the school and the attitude of\n",
        "the teachers do not have an influence upon the molding of the psychological foundation for pupils. Give into the power of the teacher the fewest possible coercive\n",
        "measures, so that the only source of the pupil’s respect for the teacher is the human\n",
        "and intellectual qualities of the latter.\n",
        "The second-named motive, ambition or, in milder terms, the aiming at recognition\n",
        "and consideration, lies firmly fixed in human nature. With absence of mental stimulus of this kind, human cooperation would be entirely impossible; the desire for\n",
        "approval of one’s fellow-man certainly is one of the most important binding powers\n",
        "of society. In this complex feelings, constructive and destructive forces lie closely\n",
        "together. Desire for approval and recognition is a healthy motive; but the desire to\n",
        "be acknowledged as better, stronger, or more intelligent than a fellow being or fellow\n",
        "scholar easily leads to an excessively egoistic psychological adjustment, which may\n",
        "become injurious for the individual and for the community. Therefore the school\n",
        "and the teacher must guard against employing the easy method of creating individual ambition, in order to induce the pupils to diligent work.\n",
        "Darwin’s theory of the struggle for existence and the selectivity connected with it\n",
        "has by many people been cited as authorization of the encouragement of the spirit of\n",
        "competition. Some people also in such a way have tried to prove pseudo-scientifically\n",
        "the necessity of the destructive economic struggle of competition between individuals. But this is wrong, because man owes his strength in the struggle for existence\n",
        "to the fact that he is a socially living animal. As little as a battle between single\n",
        "ants of an ant hill is essential for survival, just so little is this the case with the\n",
        "\"\"\""
      ],
      "metadata": {
        "id": "qFh_qNgWijQW"
      },
      "execution_count": 24,
      "outputs": []
    },
    {
      "cell_type": "code",
      "metadata": {
        "colab": {
          "base_uri": "https://localhost:8080/"
        },
        "id": "KMoUObcXPfdd",
        "outputId": "d2b7c802-05c7-4773-f2b6-e6f4ed2ac20b"
      },
      "source": [
        "doc = nlp(sample_text)\n",
        "# what is in doc - just first 15\n",
        "for token in doc[:15]:\n",
        "  print(f\"token: {token} | type: {type(token)}\")\n",
        "#print tokens as text\n",
        "tokens = [token.text for token in doc if token.text ]\n",
        "print(f\"All tokens before removal:\\n{tokens}\")\n",
        "print(\"Total number of tokens before removal: \", len(tokens))\n",
        "#remove stopwords, punctuations and new line characters using list comprehensions\n",
        "fwords = [token.text for token in doc if token.is_stop != True and token.is_punct != True and token.text !=\"\\n\"]\n",
        "print (f\"Tokens after stop words removal:\\n{fwords}\")\n",
        "print(\"Total number of tokens after removal: \", len(fwords))"
      ],
      "execution_count": 31,
      "outputs": [
        {
          "output_type": "stream",
          "name": "stdout",
          "text": [
            "token: \n",
            " | type: <class 'spacy.tokens.token.Token'>\n",
            "token: On | type: <class 'spacy.tokens.token.Token'>\n",
            "token: Education | type: <class 'spacy.tokens.token.Token'>\n",
            "token: \n",
            " | type: <class 'spacy.tokens.token.Token'>\n",
            "token: Albert | type: <class 'spacy.tokens.token.Token'>\n",
            "token: Einstein | type: <class 'spacy.tokens.token.Token'>\n",
            "token: \n",
            " | type: <class 'spacy.tokens.token.Token'>\n",
            "token: Excerpts | type: <class 'spacy.tokens.token.Token'>\n",
            "token: from | type: <class 'spacy.tokens.token.Token'>\n",
            "token: an | type: <class 'spacy.tokens.token.Token'>\n",
            "token: address | type: <class 'spacy.tokens.token.Token'>\n",
            "token: by | type: <class 'spacy.tokens.token.Token'>\n",
            "token: Albert | type: <class 'spacy.tokens.token.Token'>\n",
            "token: Einstein | type: <class 'spacy.tokens.token.Token'>\n",
            "token: to | type: <class 'spacy.tokens.token.Token'>\n",
            "All tokens before removal:\n",
            "['\\n', 'On', 'Education', '\\n', 'Albert', 'Einstein', '\\n', 'Excerpts', 'from', 'an', 'address', 'by', 'Albert', 'Einstein', 'to', 'the', 'State', 'University', 'of', 'New', 'York', 'at', '\\n', 'Albany', ',', 'on', 'the', 'occasion', 'of', 'the', 'celebration', 'of', 'the', 'tercentenary', 'of', 'higher', 'education', 'in', '\\n', 'America', ',', '15th', 'October', ',', '1936', '.', 'Reference', '-', '“', 'Ideas', 'and', 'Opinions', '”', 'by', 'Albert', 'Einstein', '\\n', 'A', 'day', 'of', 'celebration', 'generally', 'is', 'in', 'the', 'first', 'place', 'dedicated', 'to', 'retrospect', ',', 'especially', '\\n', 'to', 'the', 'memory', 'of', 'personages', 'who', 'have', 'gained', 'special', 'distinction', 'for', 'the', 'development', 'of', 'the', 'cultural', 'life', '.', 'This', 'friendly', 'service', 'for', 'our', 'predecessors', 'must', 'indeed', 'not', '\\n', 'be', 'neglected', ',', 'particularly', 'as', 'such', 'a', 'memory', 'of', 'the', 'best', 'of', 'the', 'past', 'is', 'proper', 'to', '\\n', 'simulate', 'the', 'well', '-', 'disposed', 'of', 'today', 'to', 'a', 'courageous', 'effort', '.', 'But', 'this', 'should', 'be', 'done', '\\n', 'by', 'someone', 'who', ',', 'from', 'his', 'youth', ',', 'has', 'been', 'connected', 'with', 'this', 'State', 'and', 'is', 'familiar', '\\n', 'with', 'its', 'past', ',', 'not', 'by', 'one', 'who', 'like', 'a', 'gypsy', 'has', 'wondered', 'about', 'and', 'gathered', 'his', '\\n', 'experiences', 'in', 'all', 'kinds', 'of', 'countries', '.', '\\n', 'Thus', ',', 'there', 'is', 'nothing', 'else', 'left', 'for', 'me', 'but', 'to', 'speak', 'about', 'such', 'questions', 'as', ',', 'independently', 'of', 'space', 'and', 'time', ',', 'always', 'have', 'been', 'and', 'will', 'be', 'connected', 'with', 'educational', '\\n', 'matters', '.', 'In', 'this', 'attempt', 'I', 'can', 'not', 'lay', 'any', 'claim', 'to', 'being', 'an', 'authority', ',', 'especially', 'as', '\\n', 'intelligent', 'and', 'well', '-', 'meaning', 'men', 'of', 'all', 'times', 'have', 'dealt', 'with', 'educational', 'problems', '\\n', 'and', 'have', 'certainly', 'repeatedly', 'expressed', 'their', 'view', 'clearly', 'about', 'these', 'matters', '.', '\\n', 'From', 'what', 'source', 'shall', 'I', ',', 'as', 'a', 'partial', 'layman', 'in', 'the', 'realm', 'of', 'pedagogy', ',', 'derive', '\\n', 'courage', 'to', 'expound', 'opinions', 'with', 'no', 'foundations', 'except', 'personal', 'experience', 'and', '\\n', 'personal', 'conviction', '?', 'If', 'it', 'were', 'really', 'a', 'scientific', 'matter', ',', 'one', 'would', 'probably', 'be', '\\n', 'tempted', 'to', 'silence', 'by', 'such', 'considerations', '.', '\\n', 'However', ',', 'with', 'the', 'affairs', 'of', 'active', 'human', 'beings', 'it', 'is', 'different', '.', 'Here', ',', 'knowledge', '\\n', 'of', 'truth', 'alone', 'does', 'not', 'suffice', ';', 'on', 'the', 'contrary', 'this', 'knowledge', 'must', 'continually', '\\n', 'be', 'renewed', 'by', 'ceaseless', 'effort', ',', 'if', 'it', 'is', 'not', 'be', 'lost', '.', 'It', 'resembles', 'a', 'statue', 'of', 'marble', 'which', 'stands', 'in', 'the', 'desert', 'and', 'is', 'continually', 'threatened', 'with', 'burial', 'by', 'the', '\\n', 'shifting', 'sand', '.', 'The', 'hands', 'of', 'service', 'must', 'ever', 'be', 'at', 'work', ',', 'in', 'order', 'that', 'the', 'marble', '\\n', 'continue', 'lastingly', 'to', 'shine', 'in', 'the', 'sun', '.', 'To', 'these', 'serving', 'hands', 'mine', 'shall', 'also', 'belong', '.', '\\n', 'The', 'school', 'has', 'always', 'been', 'the', 'most', 'important', 'means', 'of', 'transferring', 'the', 'wealth', '\\n', 'of', 'tradition', 'from', 'one', 'generation', 'to', 'the', 'next', '.', 'This', 'applies', 'today', 'in', 'an', 'even', 'higher', '\\n', 'degree', 'than', 'in', 'former', 'times', ',', 'for', 'through', 'modern', 'development', 'of', 'the', 'economic', 'life', ',', '\\n', 'the', 'family', 'as', 'bearer', 'of', 'tradition', 'and', 'education', 'has', 'been', 'weakened', '.', 'The', 'continuance', 'and', 'health', 'of', 'human', 'society', 'is', 'therefore', 'in', 'a', 'still', 'higher', 'degree', 'dependent', 'on', '\\n', 'the', 'school', 'than', 'formerly', '.', '\\n', 'Sometimes', 'one', 'sees', 'in', 'the', 'school', 'simply', 'the', 'instrument', 'for', 'transferring', 'a', 'certain', '\\n', 'maximum', 'quantity', 'of', 'knowledge', 'to', 'the', 'growing', 'generation', '.', 'But', 'that', '’s', 'not', 'right', '.', '\\n', 'Knowledge', 'is', 'dead', ';', 'the', 'school', ',', 'however', ',', 'serves', 'the', 'living', '.', 'It', 'should', 'develop', 'in', 'the', '\\n', 'young', 'individuals', 'those', 'qualities', 'and', 'capabilities', 'which', 'are', 'of', 'value', 'for', 'the', 'welfare', 'of', 'the', 'Commonwealth', '.', 'But', 'that', 'does', 'not', 'mean', 'that', 'individuality', 'should', 'be', '\\n', 'destroyed', 'and', 'the', 'individual', 'becomes', 'a', 'mere', 'tool', 'of', 'the', 'community', ',', 'like', 'a', 'bee', 'or', '\\n', 'an', 'ant', '.', 'A', 'community', 'of', 'standardized', 'individuals', 'without', 'personal', 'originality', 'and', '\\n', 'personal', 'aims', 'would', 'be', 'a', 'poor', 'community', 'with', 'no', 'scope', 'for', 'development', '.', 'On', 'the', '\\n', '1', '\\n', 'contrary', ',', 'the', 'aim', 'must', 'be', 'the', 'training', 'of', 'independently', 'acting', 'and', 'thinking', 'individuals', ',', 'who', ',', 'however', ',', 'see', 'in', 'the', 'service', 'of', 'the', 'community', 'their', 'highest', 'life', 'problem', '.', '\\n', 'But', 'how', 'shall', 'one', 'try', 'to', 'attain', 'this', 'ideal', '?', 'Should', 'one', 'perhaps', 'try', 'to', 'realize', 'this', '\\n', 'aim', 'by', 'moralizing', '?', 'Not', 'at', 'all', '.', 'Words', 'are', 'and', 'remain', 'empty', 'sound', ',', 'and', 'the', 'road', '\\n', 'to', 'perdition1', 'has', 'ever', 'been', 'accompanied', 'by', 'lip', 'service', 'to', 'an', 'ideal', '.', 'But', 'personalities', 'are', 'not', 'formed', 'by', 'what', 'is', 'heard', 'and', 'said', 'but', 'by', 'labor', 'and', 'activity', '.', 'The', '\\n', 'most', 'important', 'method', 'of', 'education', 'accordingly', 'always', 'has', 'consisted', 'of', 'the', 'where', '\\n', 'pupil', 'was', 'urged', 'to', 'actual', 'performance', '.', 'This', 'applies', 'as', 'well', 'to', 'the', 'first', 'attempts', '\\n', 'at', 'writings', 'of', 'the', 'primary', 'boy', 'as', 'to', 'the', 'doctor', '’s', 'thesis', 'on', 'graduation', 'from', 'the', '\\n', 'university', ',', 'or', 'as', 'to', 'the', 'mere', 'memorizing', 'of', 'a', 'poem', ',', 'the', 'writing', 'of', 'a', 'composition', ',', '\\n', 'the', 'interpretation', 'and', 'translation', 'of', 'a', 'text', ',', 'the', 'solving', 'of', 'a', 'mathematical', 'problem', '\\n', 'or', 'the', 'practice', 'of', 'a', 'physical', 'sport', '.', '\\n', 'But', 'behind', 'every', 'achievement', 'exists', 'the', 'motivation', 'which', 'is', 'at', 'the', 'foundation', 'of', '\\n', 'it', 'and', 'which', 'in', 'turn', 'is', 'strengthened', 'and', 'nourished', 'by', 'the', 'accomplishment', 'of', 'the', '\\n', 'undertaking', '.', 'Here', 'there', 'are', 'the', 'greatest', 'differences', 'and', 'they', 'are', 'of', 'greatest', 'importance', 'to', 'the', 'educational', 'value', 'of', 'the', 'school', '.', 'The', 'same', 'work', 'may', 'owe', 'its', 'origin', 'to', '\\n', 'fear', 'and', 'compulsion', ',', 'ambitious', 'desire', 'for', 'authority', 'and', 'distinction', ',', 'or', 'loving', 'interest', 'in', 'the', 'object', 'and', 'a', 'desire', 'for', 'truth', 'and', 'understanding', ',', 'and', 'thus', 'to', 'that', 'divine', '\\n', 'curiosity', 'which', 'every', 'healthy', 'child', 'possesses', ',', 'but', 'which', 'so', 'often', 'is', 'weakened', 'early', '.', '\\n', 'The', 'educational', 'influence', 'which', 'is', 'exercised', 'upon', 'the', 'pupil', 'by', 'the', 'accomplishment', '\\n', 'of', 'one', 'and', 'the', 'same', 'work', 'may', 'be', 'widely', 'different', ',', 'depending', 'upon', 'whether', 'fear', '\\n', 'of', 'hurt', ',', 'egoistic', 'passion', ',', 'or', 'desire', 'for', 'pleasure', 'and', 'satisfaction', 'is', 'at', 'the', 'bottom', 'of', '\\n', 'this', 'work', '.', '\\n', 'And', 'nobody', 'will', 'maintain', 'that', 'the', 'administration', 'of', 'the', 'school', 'and', 'the', 'attitude', 'of', '\\n', 'the', 'teachers', 'do', 'not', 'have', 'an', 'influence', 'upon', 'the', 'molding', 'of', 'the', 'psychological', 'foundation', 'for', 'pupils', '.', 'Give', 'into', 'the', 'power', 'of', 'the', 'teacher', 'the', 'fewest', 'possible', 'coercive', '\\n', 'measures', ',', 'so', 'that', 'the', 'only', 'source', 'of', 'the', 'pupil', '’s', 'respect', 'for', 'the', 'teacher', 'is', 'the', 'human', '\\n', 'and', 'intellectual', 'qualities', 'of', 'the', 'latter', '.', '\\n', 'The', 'second', '-', 'named', 'motive', ',', 'ambition', 'or', ',', 'in', 'milder', 'terms', ',', 'the', 'aiming', 'at', 'recognition', '\\n', 'and', 'consideration', ',', 'lies', 'firmly', 'fixed', 'in', 'human', 'nature', '.', 'With', 'absence', 'of', 'mental', 'stimulus', 'of', 'this', 'kind', ',', 'human', 'cooperation', 'would', 'be', 'entirely', 'impossible', ';', 'the', 'desire', 'for', '\\n', 'approval', 'of', 'one', '’s', 'fellow', '-', 'man', 'certainly', 'is', 'one', 'of', 'the', 'most', 'important', 'binding', 'powers', '\\n', 'of', 'society', '.', 'In', 'this', 'complex', 'feelings', ',', 'constructive', 'and', 'destructive', 'forces', 'lie', 'closely', '\\n', 'together', '.', 'Desire', 'for', 'approval', 'and', 'recognition', 'is', 'a', 'healthy', 'motive', ';', 'but', 'the', 'desire', 'to', '\\n', 'be', 'acknowledged', 'as', 'better', ',', 'stronger', ',', 'or', 'more', 'intelligent', 'than', 'a', 'fellow', 'being', 'or', 'fellow', '\\n', 'scholar', 'easily', 'leads', 'to', 'an', 'excessively', 'egoistic', 'psychological', 'adjustment', ',', 'which', 'may', '\\n', 'become', 'injurious', 'for', 'the', 'individual', 'and', 'for', 'the', 'community', '.', 'Therefore', 'the', 'school', '\\n', 'and', 'the', 'teacher', 'must', 'guard', 'against', 'employing', 'the', 'easy', 'method', 'of', 'creating', 'individual', 'ambition', ',', 'in', 'order', 'to', 'induce', 'the', 'pupils', 'to', 'diligent', 'work', '.', '\\n', 'Darwin', '’s', 'theory', 'of', 'the', 'struggle', 'for', 'existence', 'and', 'the', 'selectivity', 'connected', 'with', 'it', '\\n', 'has', 'by', 'many', 'people', 'been', 'cited', 'as', 'authorization', 'of', 'the', 'encouragement', 'of', 'the', 'spirit', 'of', '\\n', 'competition', '.', 'Some', 'people', 'also', 'in', 'such', 'a', 'way', 'have', 'tried', 'to', 'prove', 'pseudo', '-', 'scientifically', '\\n', 'the', 'necessity', 'of', 'the', 'destructive', 'economic', 'struggle', 'of', 'competition', 'between', 'individuals', '.', 'But', 'this', 'is', 'wrong', ',', 'because', 'man', 'owes', 'his', 'strength', 'in', 'the', 'struggle', 'for', 'existence', '\\n', 'to', 'the', 'fact', 'that', 'he', 'is', 'a', 'socially', 'living', 'animal', '.', 'As', 'little', 'as', 'a', 'battle', 'between', 'single', '\\n', 'ants', 'of', 'an', 'ant', 'hill', 'is', 'essential', 'for', 'survival', ',', 'just', 'so', 'little', 'is', 'this', 'the', 'case', 'with', 'the', '\\n']\n",
            "Total number of tokens before removal:  1324\n",
            "Tokens after stop words removal:\n",
            "['Education', 'Albert', 'Einstein', 'Excerpts', 'address', 'Albert', 'Einstein', 'State', 'University', 'New', 'York', 'Albany', 'occasion', 'celebration', 'tercentenary', 'higher', 'education', 'America', '15th', 'October', '1936', 'Reference', 'Ideas', 'Opinions', 'Albert', 'Einstein', 'day', 'celebration', 'generally', 'place', 'dedicated', 'retrospect', 'especially', 'memory', 'personages', 'gained', 'special', 'distinction', 'development', 'cultural', 'life', 'friendly', 'service', 'predecessors', 'neglected', 'particularly', 'memory', 'best', 'past', 'proper', 'simulate', 'disposed', 'today', 'courageous', 'effort', 'youth', 'connected', 'State', 'familiar', 'past', 'like', 'gypsy', 'wondered', 'gathered', 'experiences', 'kinds', 'countries', 'left', 'speak', 'questions', 'independently', 'space', 'time', 'connected', 'educational', 'matters', 'attempt', 'lay', 'claim', 'authority', 'especially', 'intelligent', 'meaning', 'men', 'times', 'dealt', 'educational', 'problems', 'certainly', 'repeatedly', 'expressed', 'view', 'clearly', 'matters', 'source', 'shall', 'partial', 'layman', 'realm', 'pedagogy', 'derive', 'courage', 'expound', 'opinions', 'foundations', 'personal', 'experience', 'personal', 'conviction', 'scientific', 'matter', 'probably', 'tempted', 'silence', 'considerations', 'affairs', 'active', 'human', 'beings', 'different', 'knowledge', 'truth', 'suffice', 'contrary', 'knowledge', 'continually', 'renewed', 'ceaseless', 'effort', 'lost', 'resembles', 'statue', 'marble', 'stands', 'desert', 'continually', 'threatened', 'burial', 'shifting', 'sand', 'hands', 'service', 'work', 'order', 'marble', 'continue', 'lastingly', 'shine', 'sun', 'serving', 'hands', 'shall', 'belong', 'school', 'important', 'means', 'transferring', 'wealth', 'tradition', 'generation', 'applies', 'today', 'higher', 'degree', 'times', 'modern', 'development', 'economic', 'life', 'family', 'bearer', 'tradition', 'education', 'weakened', 'continuance', 'health', 'human', 'society', 'higher', 'degree', 'dependent', 'school', 'sees', 'school', 'simply', 'instrument', 'transferring', 'certain', 'maximum', 'quantity', 'knowledge', 'growing', 'generation', 'right', 'Knowledge', 'dead', 'school', 'serves', 'living', 'develop', 'young', 'individuals', 'qualities', 'capabilities', 'value', 'welfare', 'Commonwealth', 'mean', 'individuality', 'destroyed', 'individual', 'mere', 'tool', 'community', 'like', 'bee', 'ant', 'community', 'standardized', 'individuals', 'personal', 'originality', 'personal', 'aims', 'poor', 'community', 'scope', 'development', '1', 'contrary', 'aim', 'training', 'independently', 'acting', 'thinking', 'individuals', 'service', 'community', 'highest', 'life', 'problem', 'shall', 'try', 'attain', 'ideal', 'try', 'realize', 'aim', 'moralizing', 'Words', 'remain', 'sound', 'road', 'perdition1', 'accompanied', 'lip', 'service', 'ideal', 'personalities', 'formed', 'heard', 'said', 'labor', 'activity', 'important', 'method', 'education', 'accordingly', 'consisted', 'pupil', 'urged', 'actual', 'performance', 'applies', 'attempts', 'writings', 'primary', 'boy', 'doctor', 'thesis', 'graduation', 'university', 'mere', 'memorizing', 'poem', 'writing', 'composition', 'interpretation', 'translation', 'text', 'solving', 'mathematical', 'problem', 'practice', 'physical', 'sport', 'achievement', 'exists', 'motivation', 'foundation', 'turn', 'strengthened', 'nourished', 'accomplishment', 'undertaking', 'greatest', 'differences', 'greatest', 'importance', 'educational', 'value', 'school', 'work', 'owe', 'origin', 'fear', 'compulsion', 'ambitious', 'desire', 'authority', 'distinction', 'loving', 'interest', 'object', 'desire', 'truth', 'understanding', 'divine', 'curiosity', 'healthy', 'child', 'possesses', 'weakened', 'early', 'educational', 'influence', 'exercised', 'pupil', 'accomplishment', 'work', 'widely', 'different', 'depending', 'fear', 'hurt', 'egoistic', 'passion', 'desire', 'pleasure', 'satisfaction', 'work', 'maintain', 'administration', 'school', 'attitude', 'teachers', 'influence', 'molding', 'psychological', 'foundation', 'pupils', 'power', 'teacher', 'fewest', 'possible', 'coercive', 'measures', 'source', 'pupil', 'respect', 'teacher', 'human', 'intellectual', 'qualities', 'second', 'named', 'motive', 'ambition', 'milder', 'terms', 'aiming', 'recognition', 'consideration', 'lies', 'firmly', 'fixed', 'human', 'nature', 'absence', 'mental', 'stimulus', 'kind', 'human', 'cooperation', 'entirely', 'impossible', 'desire', 'approval', 'fellow', 'man', 'certainly', 'important', 'binding', 'powers', 'society', 'complex', 'feelings', 'constructive', 'destructive', 'forces', 'lie', 'closely', 'Desire', 'approval', 'recognition', 'healthy', 'motive', 'desire', 'acknowledged', 'better', 'stronger', 'intelligent', 'fellow', 'fellow', 'scholar', 'easily', 'leads', 'excessively', 'egoistic', 'psychological', 'adjustment', 'injurious', 'individual', 'community', 'school', 'teacher', 'guard', 'employing', 'easy', 'method', 'creating', 'individual', 'ambition', 'order', 'induce', 'pupils', 'diligent', 'work', 'Darwin', 'theory', 'struggle', 'existence', 'selectivity', 'connected', 'people', 'cited', 'authorization', 'encouragement', 'spirit', 'competition', 'people', 'way', 'tried', 'prove', 'pseudo', 'scientifically', 'necessity', 'destructive', 'economic', 'struggle', 'competition', 'individuals', 'wrong', 'man', 'owes', 'strength', 'struggle', 'existence', 'fact', 'socially', 'living', 'animal', 'little', 'battle', 'single', 'ants', 'ant', 'hill', 'essential', 'survival', 'little', 'case']\n",
            "Total number of tokens after removal:  492\n"
          ]
        }
      ]
    },
    {
      "cell_type": "markdown",
      "metadata": {
        "id": "ecm5sgacPfdd"
      },
      "source": [
        "## Get word frequency\n",
        "counting the word occurrence using FreqDist library\n"
      ]
    },
    {
      "cell_type": "code",
      "metadata": {
        "colab": {
          "base_uri": "https://localhost:8080/",
          "height": 542
        },
        "id": "63GIPruWPfdd",
        "outputId": "1f3aaeb3-88d6-48b2-d593-6298ef9a42e1"
      },
      "source": [
        "from collections import Counter\n",
        "import matplotlib.pyplot as plt\n",
        "\n",
        "# we are interested in filteres sample_text -> fwords\n",
        "\n",
        "#remove stopwords and punctuations\n",
        "print(fwords)\n",
        "word_freq = Counter(fwords)\n",
        "common_words = word_freq.most_common()\n",
        "print (common_words)\n",
        "\n",
        "# plot n most frequent\n",
        "n = 7\n",
        "\n",
        "# Separate words and frequencies for plotting\n",
        "words, frequencies = zip(*common_words[:n])\n",
        "\n",
        "# Plotting\n",
        "plt.figure(figsize=(10, 5))\n",
        "plt.bar(words, frequencies, color='blue')\n",
        "plt.xlabel('Words')\n",
        "plt.ylabel('Frequencies')\n",
        "plt.title(f'Top {n} Most Common Words')\n",
        "plt.show();"
      ],
      "execution_count": 37,
      "outputs": [
        {
          "output_type": "stream",
          "name": "stdout",
          "text": [
            "['Education', 'Albert', 'Einstein', 'Excerpts', 'address', 'Albert', 'Einstein', 'State', 'University', 'New', 'York', 'Albany', 'occasion', 'celebration', 'tercentenary', 'higher', 'education', 'America', '15th', 'October', '1936', 'Reference', 'Ideas', 'Opinions', 'Albert', 'Einstein', 'day', 'celebration', 'generally', 'place', 'dedicated', 'retrospect', 'especially', 'memory', 'personages', 'gained', 'special', 'distinction', 'development', 'cultural', 'life', 'friendly', 'service', 'predecessors', 'neglected', 'particularly', 'memory', 'best', 'past', 'proper', 'simulate', 'disposed', 'today', 'courageous', 'effort', 'youth', 'connected', 'State', 'familiar', 'past', 'like', 'gypsy', 'wondered', 'gathered', 'experiences', 'kinds', 'countries', 'left', 'speak', 'questions', 'independently', 'space', 'time', 'connected', 'educational', 'matters', 'attempt', 'lay', 'claim', 'authority', 'especially', 'intelligent', 'meaning', 'men', 'times', 'dealt', 'educational', 'problems', 'certainly', 'repeatedly', 'expressed', 'view', 'clearly', 'matters', 'source', 'shall', 'partial', 'layman', 'realm', 'pedagogy', 'derive', 'courage', 'expound', 'opinions', 'foundations', 'personal', 'experience', 'personal', 'conviction', 'scientific', 'matter', 'probably', 'tempted', 'silence', 'considerations', 'affairs', 'active', 'human', 'beings', 'different', 'knowledge', 'truth', 'suffice', 'contrary', 'knowledge', 'continually', 'renewed', 'ceaseless', 'effort', 'lost', 'resembles', 'statue', 'marble', 'stands', 'desert', 'continually', 'threatened', 'burial', 'shifting', 'sand', 'hands', 'service', 'work', 'order', 'marble', 'continue', 'lastingly', 'shine', 'sun', 'serving', 'hands', 'shall', 'belong', 'school', 'important', 'means', 'transferring', 'wealth', 'tradition', 'generation', 'applies', 'today', 'higher', 'degree', 'times', 'modern', 'development', 'economic', 'life', 'family', 'bearer', 'tradition', 'education', 'weakened', 'continuance', 'health', 'human', 'society', 'higher', 'degree', 'dependent', 'school', 'sees', 'school', 'simply', 'instrument', 'transferring', 'certain', 'maximum', 'quantity', 'knowledge', 'growing', 'generation', 'right', 'Knowledge', 'dead', 'school', 'serves', 'living', 'develop', 'young', 'individuals', 'qualities', 'capabilities', 'value', 'welfare', 'Commonwealth', 'mean', 'individuality', 'destroyed', 'individual', 'mere', 'tool', 'community', 'like', 'bee', 'ant', 'community', 'standardized', 'individuals', 'personal', 'originality', 'personal', 'aims', 'poor', 'community', 'scope', 'development', '1', 'contrary', 'aim', 'training', 'independently', 'acting', 'thinking', 'individuals', 'service', 'community', 'highest', 'life', 'problem', 'shall', 'try', 'attain', 'ideal', 'try', 'realize', 'aim', 'moralizing', 'Words', 'remain', 'sound', 'road', 'perdition1', 'accompanied', 'lip', 'service', 'ideal', 'personalities', 'formed', 'heard', 'said', 'labor', 'activity', 'important', 'method', 'education', 'accordingly', 'consisted', 'pupil', 'urged', 'actual', 'performance', 'applies', 'attempts', 'writings', 'primary', 'boy', 'doctor', 'thesis', 'graduation', 'university', 'mere', 'memorizing', 'poem', 'writing', 'composition', 'interpretation', 'translation', 'text', 'solving', 'mathematical', 'problem', 'practice', 'physical', 'sport', 'achievement', 'exists', 'motivation', 'foundation', 'turn', 'strengthened', 'nourished', 'accomplishment', 'undertaking', 'greatest', 'differences', 'greatest', 'importance', 'educational', 'value', 'school', 'work', 'owe', 'origin', 'fear', 'compulsion', 'ambitious', 'desire', 'authority', 'distinction', 'loving', 'interest', 'object', 'desire', 'truth', 'understanding', 'divine', 'curiosity', 'healthy', 'child', 'possesses', 'weakened', 'early', 'educational', 'influence', 'exercised', 'pupil', 'accomplishment', 'work', 'widely', 'different', 'depending', 'fear', 'hurt', 'egoistic', 'passion', 'desire', 'pleasure', 'satisfaction', 'work', 'maintain', 'administration', 'school', 'attitude', 'teachers', 'influence', 'molding', 'psychological', 'foundation', 'pupils', 'power', 'teacher', 'fewest', 'possible', 'coercive', 'measures', 'source', 'pupil', 'respect', 'teacher', 'human', 'intellectual', 'qualities', 'second', 'named', 'motive', 'ambition', 'milder', 'terms', 'aiming', 'recognition', 'consideration', 'lies', 'firmly', 'fixed', 'human', 'nature', 'absence', 'mental', 'stimulus', 'kind', 'human', 'cooperation', 'entirely', 'impossible', 'desire', 'approval', 'fellow', 'man', 'certainly', 'important', 'binding', 'powers', 'society', 'complex', 'feelings', 'constructive', 'destructive', 'forces', 'lie', 'closely', 'Desire', 'approval', 'recognition', 'healthy', 'motive', 'desire', 'acknowledged', 'better', 'stronger', 'intelligent', 'fellow', 'fellow', 'scholar', 'easily', 'leads', 'excessively', 'egoistic', 'psychological', 'adjustment', 'injurious', 'individual', 'community', 'school', 'teacher', 'guard', 'employing', 'easy', 'method', 'creating', 'individual', 'ambition', 'order', 'induce', 'pupils', 'diligent', 'work', 'Darwin', 'theory', 'struggle', 'existence', 'selectivity', 'connected', 'people', 'cited', 'authorization', 'encouragement', 'spirit', 'competition', 'people', 'way', 'tried', 'prove', 'pseudo', 'scientifically', 'necessity', 'destructive', 'economic', 'struggle', 'competition', 'individuals', 'wrong', 'man', 'owes', 'strength', 'struggle', 'existence', 'fact', 'socially', 'living', 'animal', 'little', 'battle', 'single', 'ants', 'ant', 'hill', 'essential', 'survival', 'little', 'case']\n",
            "[('school', 7), ('human', 5), ('work', 5), ('community', 5), ('desire', 5), ('service', 4), ('educational', 4), ('personal', 4), ('individuals', 4), ('Albert', 3), ('Einstein', 3), ('higher', 3), ('education', 3), ('development', 3), ('life', 3), ('connected', 3), ('shall', 3), ('knowledge', 3), ('important', 3), ('individual', 3), ('pupil', 3), ('teacher', 3), ('fellow', 3), ('struggle', 3), ('State', 2), ('celebration', 2), ('especially', 2), ('memory', 2), ('distinction', 2), ('past', 2), ('today', 2), ('effort', 2), ('like', 2), ('independently', 2), ('matters', 2), ('authority', 2), ('intelligent', 2), ('times', 2), ('certainly', 2), ('source', 2), ('different', 2), ('truth', 2), ('contrary', 2), ('continually', 2), ('marble', 2), ('hands', 2), ('order', 2), ('transferring', 2), ('tradition', 2), ('generation', 2), ('applies', 2), ('degree', 2), ('economic', 2), ('weakened', 2), ('society', 2), ('living', 2), ('qualities', 2), ('value', 2), ('mere', 2), ('ant', 2), ('aim', 2), ('problem', 2), ('try', 2), ('ideal', 2), ('method', 2), ('foundation', 2), ('accomplishment', 2), ('greatest', 2), ('fear', 2), ('healthy', 2), ('influence', 2), ('egoistic', 2), ('psychological', 2), ('pupils', 2), ('motive', 2), ('ambition', 2), ('recognition', 2), ('approval', 2), ('man', 2), ('destructive', 2), ('existence', 2), ('people', 2), ('competition', 2), ('little', 2), ('Education', 1), ('Excerpts', 1), ('address', 1), ('University', 1), ('New', 1), ('York', 1), ('Albany', 1), ('occasion', 1), ('tercentenary', 1), ('America', 1), ('15th', 1), ('October', 1), ('1936', 1), ('Reference', 1), ('Ideas', 1), ('Opinions', 1), ('day', 1), ('generally', 1), ('place', 1), ('dedicated', 1), ('retrospect', 1), ('personages', 1), ('gained', 1), ('special', 1), ('cultural', 1), ('friendly', 1), ('predecessors', 1), ('neglected', 1), ('particularly', 1), ('best', 1), ('proper', 1), ('simulate', 1), ('disposed', 1), ('courageous', 1), ('youth', 1), ('familiar', 1), ('gypsy', 1), ('wondered', 1), ('gathered', 1), ('experiences', 1), ('kinds', 1), ('countries', 1), ('left', 1), ('speak', 1), ('questions', 1), ('space', 1), ('time', 1), ('attempt', 1), ('lay', 1), ('claim', 1), ('meaning', 1), ('men', 1), ('dealt', 1), ('problems', 1), ('repeatedly', 1), ('expressed', 1), ('view', 1), ('clearly', 1), ('partial', 1), ('layman', 1), ('realm', 1), ('pedagogy', 1), ('derive', 1), ('courage', 1), ('expound', 1), ('opinions', 1), ('foundations', 1), ('experience', 1), ('conviction', 1), ('scientific', 1), ('matter', 1), ('probably', 1), ('tempted', 1), ('silence', 1), ('considerations', 1), ('affairs', 1), ('active', 1), ('beings', 1), ('suffice', 1), ('renewed', 1), ('ceaseless', 1), ('lost', 1), ('resembles', 1), ('statue', 1), ('stands', 1), ('desert', 1), ('threatened', 1), ('burial', 1), ('shifting', 1), ('sand', 1), ('continue', 1), ('lastingly', 1), ('shine', 1), ('sun', 1), ('serving', 1), ('belong', 1), ('means', 1), ('wealth', 1), ('modern', 1), ('family', 1), ('bearer', 1), ('continuance', 1), ('health', 1), ('dependent', 1), ('sees', 1), ('simply', 1), ('instrument', 1), ('certain', 1), ('maximum', 1), ('quantity', 1), ('growing', 1), ('right', 1), ('Knowledge', 1), ('dead', 1), ('serves', 1), ('develop', 1), ('young', 1), ('capabilities', 1), ('welfare', 1), ('Commonwealth', 1), ('mean', 1), ('individuality', 1), ('destroyed', 1), ('tool', 1), ('bee', 1), ('standardized', 1), ('originality', 1), ('aims', 1), ('poor', 1), ('scope', 1), ('1', 1), ('training', 1), ('acting', 1), ('thinking', 1), ('highest', 1), ('attain', 1), ('realize', 1), ('moralizing', 1), ('Words', 1), ('remain', 1), ('sound', 1), ('road', 1), ('perdition1', 1), ('accompanied', 1), ('lip', 1), ('personalities', 1), ('formed', 1), ('heard', 1), ('said', 1), ('labor', 1), ('activity', 1), ('accordingly', 1), ('consisted', 1), ('urged', 1), ('actual', 1), ('performance', 1), ('attempts', 1), ('writings', 1), ('primary', 1), ('boy', 1), ('doctor', 1), ('thesis', 1), ('graduation', 1), ('university', 1), ('memorizing', 1), ('poem', 1), ('writing', 1), ('composition', 1), ('interpretation', 1), ('translation', 1), ('text', 1), ('solving', 1), ('mathematical', 1), ('practice', 1), ('physical', 1), ('sport', 1), ('achievement', 1), ('exists', 1), ('motivation', 1), ('turn', 1), ('strengthened', 1), ('nourished', 1), ('undertaking', 1), ('differences', 1), ('importance', 1), ('owe', 1), ('origin', 1), ('compulsion', 1), ('ambitious', 1), ('loving', 1), ('interest', 1), ('object', 1), ('understanding', 1), ('divine', 1), ('curiosity', 1), ('child', 1), ('possesses', 1), ('early', 1), ('exercised', 1), ('widely', 1), ('depending', 1), ('hurt', 1), ('passion', 1), ('pleasure', 1), ('satisfaction', 1), ('maintain', 1), ('administration', 1), ('attitude', 1), ('teachers', 1), ('molding', 1), ('power', 1), ('fewest', 1), ('possible', 1), ('coercive', 1), ('measures', 1), ('respect', 1), ('intellectual', 1), ('second', 1), ('named', 1), ('milder', 1), ('terms', 1), ('aiming', 1), ('consideration', 1), ('lies', 1), ('firmly', 1), ('fixed', 1), ('nature', 1), ('absence', 1), ('mental', 1), ('stimulus', 1), ('kind', 1), ('cooperation', 1), ('entirely', 1), ('impossible', 1), ('binding', 1), ('powers', 1), ('complex', 1), ('feelings', 1), ('constructive', 1), ('forces', 1), ('lie', 1), ('closely', 1), ('Desire', 1), ('acknowledged', 1), ('better', 1), ('stronger', 1), ('scholar', 1), ('easily', 1), ('leads', 1), ('excessively', 1), ('adjustment', 1), ('injurious', 1), ('guard', 1), ('employing', 1), ('easy', 1), ('creating', 1), ('induce', 1), ('diligent', 1), ('Darwin', 1), ('theory', 1), ('selectivity', 1), ('cited', 1), ('authorization', 1), ('encouragement', 1), ('spirit', 1), ('way', 1), ('tried', 1), ('prove', 1), ('pseudo', 1), ('scientifically', 1), ('necessity', 1), ('wrong', 1), ('owes', 1), ('strength', 1), ('fact', 1), ('socially', 1), ('animal', 1), ('battle', 1), ('single', 1), ('ants', 1), ('hill', 1), ('essential', 1), ('survival', 1), ('case', 1)]\n"
          ]
        },
        {
          "output_type": "display_data",
          "data": {
            "text/plain": [
              "<Figure size 1000x500 with 1 Axes>"
            ],
            "image/png": "[encoded data removed]"
          },
          "metadata": {}
        }
      ]
    },
    {
      "cell_type": "markdown",
      "metadata": {
        "id": "3E4vU6HrPfde"
      },
      "source": [
        "## Part of Speech tags\n",
        "POS tag helps us to know the tags of each word like whether a word is noun, adjective etc."
      ]
    },
    {
      "cell_type": "code",
      "metadata": {
        "id": "ci6MWG5TPfde",
        "colab": {
          "base_uri": "https://localhost:8080/"
        },
        "outputId": "7f6f4e60-ddbc-45da-a0d4-3e63dda236e5"
      },
      "source": [
        "text = \"The dogs are barking outside. The cats are meowing in houses.\"\n",
        "\n",
        "doc = nlp(text)\n",
        "\n",
        "for tok in doc:\n",
        "  print(f'{tok.text:{12}} {tok.pos_:{10}} {tok.tag_:{8}} {spacy.explain(tok.tag_)}')"
      ],
      "execution_count": 39,
      "outputs": [
        {
          "output_type": "stream",
          "name": "stdout",
          "text": [
            "The          DET        DT       determiner\n",
            "dogs         NOUN       NNS      noun, plural\n",
            "are          AUX        VBP      verb, non-3rd person singular present\n",
            "barking      VERB       VBG      verb, gerund or present participle\n",
            "outside      ADV        RB       adverb\n",
            ".            PUNCT      .        punctuation mark, sentence closer\n",
            "The          DET        DT       determiner\n",
            "cats         NOUN       NNS      noun, plural\n",
            "are          AUX        VBP      verb, non-3rd person singular present\n",
            "meowing      VERB       VBG      verb, gerund or present participle\n",
            "in           ADP        IN       conjunction, subordinating or preposition\n",
            "houses       NOUN       NNS      noun, plural\n",
            ".            PUNCT      .        punctuation mark, sentence closer\n"
          ]
        }
      ]
    },
    {
      "cell_type": "markdown",
      "metadata": {
        "id": "97QeB3cIPfdf"
      },
      "source": [
        "## NER(Named Entity Recognition)"
      ]
    },
    {
      "cell_type": "markdown",
      "metadata": {
        "id": "5sLzNn4JPfdf"
      },
      "source": [
        "| Label    | Description                                          |\n",
        "|----------|------------------------------------------------------|\n",
        "| ORG      | Companies, agencies, institutions.                   |\n",
        "| GPE      | Geopolitical entity, i.e. countries, cities, states. |\n",
        "| CARDINAL | Numerals                                             |"
      ]
    },
    {
      "cell_type": "code",
      "metadata": {
        "id": "naCO1xUMPfdf"
      },
      "source": [],
      "execution_count": null,
      "outputs": []
    },
    {
      "cell_type": "code",
      "metadata": {
        "colab": {
          "base_uri": "https://localhost:8080/"
        },
        "id": "H-4Fszr2Pfdf",
        "outputId": "0cd0d7a9-ed0d-4d52-9115-be1661708c1f"
      },
      "source": [
        "text = \"Vienna is the national capital, largest city, and one of nine states of Austria. Vienna is Austria's most populous city, with about 1.9 million inhabitants\"\n",
        "doc = nlp(text)\n",
        "\n",
        "for ent in doc.ents:\n",
        "    print(ent.text, ent.label_)"
      ],
      "execution_count": null,
      "outputs": [
        {
          "output_type": "stream",
          "name": "stdout",
          "text": [
            "Vienna GPE\n",
            "one CARDINAL\n",
            "nine CARDINAL\n",
            "Austria GPE\n",
            "Vienna GPE\n",
            "Austria GPE\n",
            "about 1.9 million CARDINAL\n"
          ]
        }
      ]
    },
    {
      "cell_type": "markdown",
      "metadata": {
        "id": "Kzm0ixfdPfdf"
      },
      "source": [
        "## Word Vector Representation"
      ]
    },
    {
      "cell_type": "code",
      "metadata": {
        "colab": {
          "base_uri": "https://localhost:8080/"
        },
        "id": "GkG7mwyIPfdg",
        "outputId": "35feafc2-2ba5-4669-a2b6-b2c69869500d"
      },
      "source": [
        "city = nlp('Vienna')\n",
        "print(city.vector.shape)\n",
        "print(city.vector)"
      ],
      "execution_count": null,
      "outputs": [
        {
          "output_type": "stream",
          "name": "stdout",
          "text": [
            "(96,)\n",
            "[-1.0961218  -0.22902218 -0.4975809   0.9610567   0.7078363  -0.06464957\n",
            "  0.73181033  0.7445235  -1.2915039  -0.09090728  1.4697149   0.09945044\n",
            " -1.3506333  -0.13108441 -0.7924895   0.05922782 -0.6520083  -0.35899088\n",
            "  1.2024351  -0.52779263 -1.159215    0.53939533 -0.6297082   0.14621311\n",
            "  0.5931368   0.03357325  0.790095    1.5684465  -0.12552348  0.29643065\n",
            "  0.02728534  0.15686297  0.8964345   1.0861708  -1.2775282  -1.2620009\n",
            "  0.40376115  1.0572989   0.89938     1.5239228  -1.276994    0.15016714\n",
            " -0.30887002 -0.2136845  -0.39376312 -0.93562853 -1.3808439   1.8952878\n",
            "  0.61209774 -0.47402984  0.4551257  -0.812488    0.03708351 -0.24509734\n",
            " -0.5069572  -0.9935806   1.3590736  -0.6163687   0.69572055  0.5491389\n",
            " -0.5353222  -0.9912694   0.37881336 -0.41703197  1.7358744  -0.02423835\n",
            "  0.11495821 -0.94645905  0.63233984 -0.79578835  0.19647892  0.08197635\n",
            "  1.4766746   0.03564269  0.7181915   0.0255273  -0.4215235  -0.5941889\n",
            " -0.82184887 -1.1261017  -0.02957836 -0.55367756 -0.6826134  -0.84067726\n",
            " -1.1947625   1.4443831  -0.10637393  0.13902423 -0.5255773   0.2739346\n",
            " -0.7267194  -0.79699695  3.0054486   0.44019985  0.6969847   0.3442107 ]\n"
          ]
        }
      ]
    },
    {
      "cell_type": "markdown",
      "metadata": {
        "id": "jHu6fc2hPfdg"
      },
      "source": [
        "\n",
        "> Now, you have an insight into the NLP mechanisms used in ChatBots."
      ]
    }
  ]
}