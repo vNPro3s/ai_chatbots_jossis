{
 "cells": [
  {
   "cell_type": "markdown",
   "id": "b97ddf3b-d921-4169-9d82-b0ee95e9eccd",
   "metadata": {},
   "source": [
    "# Iterative Prompt Development\n",
    "In this lesson, you'll iteratively analyze and refine your prompts to generate marketing copy from a product fact sheet.\n",
    "\n",
    "This notebook mostly resamble DeepLearning.AI notebook!\n",
    "\n",
    "## Setup"
   ]
  },
  {
   "cell_type": "code",
   "execution_count": 1,
   "id": "2800e646",
   "metadata": {
    "height": 133,
    "tags": []
   },
   "outputs": [
    {
     "name": "stdout",
     "output_type": "stream",
     "text": [
      "Everything is fine :-)\n"
     ]
    }
   ],
   "source": [
    "import os\n",
    "from openai import OpenAI\n",
    "from dotenv import load_dotenv\n",
    "from aux_functions import get_completion\n",
    "\n",
    "env_path = os.path.join(os.getcwd(), '.env')\n",
    "# loading the environment variables\n",
    "load_dotenv(dotenv_path=env_path)\n",
    "print(\"Everything is fine :-)\")"
   ]
  },
  {
   "cell_type": "code",
   "execution_count": 2,
   "id": "37c23cf1",
   "metadata": {},
   "outputs": [
    {
     "name": "stdout",
     "output_type": "stream",
     "text": [
      "Client created successfully\n",
      "<openai.OpenAI object at 0x000001EC488C2B40>\n"
     ]
    }
   ],
   "source": [
    "# creating base OpenAI client\n",
    "client = OpenAI(api_key=os.getenv('OPENAI_API_KEY'))\n",
    "print(\"Client created successfully\")\n",
    "print(client)"
   ]
  },
  {
   "cell_type": "markdown",
   "id": "71d1a1df-03c3-4f38-af6d-3962362f3dcd",
   "metadata": {},
   "source": [
    "## Generate a marketing product description from a product fact sheet"
   ]
  },
  {
   "cell_type": "code",
   "execution_count": 3,
   "id": "5be90e47",
   "metadata": {
    "height": 710,
    "tags": []
   },
   "outputs": [],
   "source": [
    "fact_sheet_chair = \"\"\"\n",
    "OVERVIEW\n",
    "- Part of a beautiful family of mid-century inspired office furniture, \n",
    "including filing cabinets, desks, bookcases, meeting tables, and more.\n",
    "- Several options of shell color and base finishes.\n",
    "- Available with plastic back and front upholstery (SWC-100) \n",
    "or full upholstery (SWC-110) in 10 fabric and 6 leather options.\n",
    "- Base finish options are: stainless steel, matte black, \n",
    "gloss white, or chrome.\n",
    "- Chair is available with or without armrests.\n",
    "- Suitable for home or business settings.\n",
    "- Qualified for contract use.\n",
    "\n",
    "CONSTRUCTION\n",
    "- 5-wheel plastic coated aluminum base.\n",
    "- Pneumatic chair adjust for easy raise/lower action.\n",
    "\n",
    "DIMENSIONS\n",
    "- WIDTH 53 CM | 20.87”\n",
    "- DEPTH 51 CM | 20.08”\n",
    "- HEIGHT 80 CM | 31.50”\n",
    "- SEAT HEIGHT 44 CM | 17.32”\n",
    "- SEAT DEPTH 41 CM | 16.14”\n",
    "\n",
    "OPTIONS\n",
    "- Soft or hard-floor caster options.\n",
    "- Two choices of seat foam densities: \n",
    " medium (1.8 lb/ft3) or high (2.8 lb/ft3)\n",
    "- Armless or 8 position PU armrests \n",
    "\n",
    "MATERIALS\n",
    "SHELL BASE GLIDER\n",
    "- Cast Aluminum with modified nylon PA6/PA66 coating.\n",
    "- Shell thickness: 10 mm.\n",
    "SEAT\n",
    "- HD36 foam\n",
    "\n",
    "COUNTRY OF ORIGIN\n",
    "- Italy\n",
    "\"\"\""
   ]
  },
  {
   "cell_type": "code",
   "execution_count": 4,
   "id": "4f656d0c",
   "metadata": {
    "height": 251,
    "tags": []
   },
   "outputs": [
    {
     "name": "stdout",
     "output_type": "stream",
     "text": [
      "**Mid-Century Inspired Office Chair**\n",
      "\n",
      "Elevate your workspace with our stunning Mid-Century Inspired Office Chair, a perfect blend of style, comfort, and functionality. This chair is part of a beautiful family of mid-century inspired office furniture, including filing cabinets, desks, bookcases, meeting tables, and more, making it easy to create a cohesive and stylish office environment.\n",
      "\n",
      "**Design & Customization:**\n",
      "- **Shell Color & Base Finishes:** Choose from several shell colors and base finishes to match your decor. Base finish options include stainless steel, matte black, gloss white, or chrome.\n",
      "- **Upholstery Options:** Available in two styles: plastic back and front upholstery (SWC-100) or full upholstery (SWC-110). Select from 10 fabric and 6 leather options to suit your taste.\n",
      "- **Armrest Choices:** Opt for a chair with or without armrests, with the armrest version offering 8 position PU armrests for added comfort.\n",
      "\n",
      "**Versatility:**\n",
      "- **Home or Business Use:** This chair is suitable for both home and business settings, and is qualified for contract use, ensuring durability and longevity in various environments.\n",
      "\n",
      "**Construction & Comfort:**\n",
      "- **Sturdy Base:** Features a 5-wheel plastic coated aluminum base for stability and ease of movement.\n",
      "- **Adjustability:** Pneumatic chair adjust allows for easy raise/lower action to find your perfect seating height.\n",
      "- **Caster Options:** Choose between soft or hard-floor casters to protect your flooring and ensure smooth mobility.\n",
      "- **Seat Foam Densities:** Available in two seat foam densities: medium (1.8 lb/ft3) or high (2.8 lb/ft3), providing customizable comfort.\n",
      "\n",
      "**Dimensions:**\n",
      "- **Width:** 53 cm | 20.87”\n",
      "- **Depth:** 51 cm | 20.08”\n",
      "- **Height:** 80 cm | 31.50”\n",
      "- **Seat Height:** 44 cm | 17.32”\n",
      "- **Seat Depth:** 41 cm | 16.14”\n",
      "\n",
      "**Materials:**\n",
      "- **Shell Base Glider:** Made from cast aluminum with a modified nylon PA6/PA66 coating, ensuring durability and a sleek finish.\n",
      "- **Seat:** Constructed with HD36 foam for superior comfort and support.\n",
      "\n",
      "**Country of Origin:**\n",
      "- Proudly made in Italy, this chair combines Italian craftsmanship with modern design to bring you a piece that is both functional and stylish.\n",
      "\n",
      "Transform your workspace with the Mid-Century Inspired Office Chair, where elegance meets ergonomic design. Whether for home or office, this chair promises to deliver comfort and style, making it an essential addition to any setting.\n"
     ]
    }
   ],
   "source": [
    "prompt = f\"\"\"\n",
    "Your task is to help a marketing team create a \n",
    "description for a retail website of a product based \n",
    "on a technical fact sheet.\n",
    "\n",
    "Write a product description based on the information \n",
    "provided in the technical specifications delimited by \n",
    "triple backticks.\n",
    "\n",
    "Technical specifications: ```{fact_sheet_chair}```\n",
    "\"\"\"\n",
    "response = get_completion(prompt, client)\n",
    "print(response)\n"
   ]
  },
  {
   "cell_type": "markdown",
   "id": "e1361d6f-6022-4b7a-8107-b2e2ff5efd32",
   "metadata": {},
   "source": [
    "## Issue 1: The text is too long \n",
    "- Limit the number of words/sentences/characters."
   ]
  },
  {
   "cell_type": "code",
   "execution_count": 5,
   "id": "f6129532",
   "metadata": {
    "height": 285,
    "tags": []
   },
   "outputs": [
    {
     "name": "stdout",
     "output_type": "stream",
     "text": [
      "Elevate your workspace with our mid-century inspired office chair. Choose from various shell colors, base finishes, and upholstery options. Features include a 5-wheel aluminum base, pneumatic height adjustment, and optional armrests. Perfect for home or business use. Made in Italy.\n"
     ]
    }
   ],
   "source": [
    "prompt = f\"\"\"\n",
    "Your task is to help a marketing team create a \n",
    "description for a retail website of a product based \n",
    "on a technical fact sheet.\n",
    "\n",
    "Write a product description based on the information \n",
    "provided in the technical specifications delimited by \n",
    "triple backticks.\n",
    "\n",
    "Use at most 50 words.\n",
    "\n",
    "Technical specifications: ```{fact_sheet_chair}```\n",
    "\"\"\"\n",
    "response = get_completion(prompt, client)\n",
    "print(response)\n"
   ]
  },
  {
   "cell_type": "code",
   "execution_count": 6,
   "id": "17f658d0",
   "metadata": {
    "height": 30,
    "tags": []
   },
   "outputs": [
    {
     "data": {
      "text/plain": [
       "40"
      ]
     },
     "execution_count": 6,
     "metadata": {},
     "output_type": "execute_result"
    }
   ],
   "source": [
    "len(response.split())"
   ]
  },
  {
   "cell_type": "markdown",
   "id": "a6de9c92-857c-4d1c-8fd1-192cf47c4763",
   "metadata": {},
   "source": [
    "## Issue 2. Text focuses on the wrong details\n",
    "- Ask it to focus on the aspects that are relevant to the intended audience."
   ]
  },
  {
   "cell_type": "code",
   "execution_count": 8,
   "id": "954a8a06",
   "metadata": {
    "height": 336,
    "tags": []
   },
   "outputs": [
    {
     "name": "stdout",
     "output_type": "stream",
     "text": [
      "Discover our mid-century inspired office chair, crafted in Italy. Featuring a 5-wheel plastic-coated aluminum base, pneumatic height adjustment, and HD36 foam seat. Choose from plastic or full upholstery in various fabrics and leathers. Available in multiple shell colors and base finishes, with optional armrests and caster types. Ideal for home or business use.\n"
     ]
    }
   ],
   "source": [
    "prompt = f\"\"\"\n",
    "Your task is to help a marketing team create a \n",
    "description for a retail website of a product based \n",
    "on a technical fact sheet.\n",
    "\n",
    "Write a product description based on the information \n",
    "provided in the technical specifications delimited by \n",
    "triple backticks.\n",
    "\n",
    "The description is intended for furniture retailers, \n",
    "so should be technical in nature and focus on the \n",
    "materials the product is constructed from.\n",
    "\n",
    "Use at most 50 words.\n",
    "\n",
    "Technical specifications: ```{fact_sheet_chair}```\n",
    "\"\"\"\n",
    "response = get_completion(prompt, client)\n",
    "print(response)"
   ]
  },
  {
   "cell_type": "code",
   "execution_count": 9,
   "id": "e9455d58",
   "metadata": {
    "height": 404,
    "tags": []
   },
   "outputs": [
    {
     "name": "stdout",
     "output_type": "stream",
     "text": [
      "Discover our mid-century inspired office chair, crafted with a 5-wheel plastic-coated aluminum base and pneumatic height adjustment. Choose from plastic or full upholstery in various fabrics and leathers. Available in multiple shell colors and base finishes. Ideal for home or business use. Product IDs: SWC-100, SWC-110.\n"
     ]
    }
   ],
   "source": [
    "prompt = f\"\"\"\n",
    "Your task is to help a marketing team create a \n",
    "description for a retail website of a product based \n",
    "on a technical fact sheet.\n",
    "\n",
    "Write a product description based on the information \n",
    "provided in the technical specifications delimited by \n",
    "triple backticks.\n",
    "\n",
    "The description is intended for furniture retailers, \n",
    "so should be technical in nature and focus on the \n",
    "materials the product is constructed from.\n",
    "\n",
    "At the end of the description, include every 7-character \n",
    "Product ID in the technical specification.\n",
    "\n",
    "Use at most 50 words.\n",
    "\n",
    "Technical specifications: ```{fact_sheet_chair}```\n",
    "\"\"\"\n",
    "response = get_completion(prompt, client)\n",
    "print(response)"
   ]
  },
  {
   "cell_type": "markdown",
   "id": "5be496d5-54c9-443b-8116-0b3d3d9dc560",
   "metadata": {},
   "source": [
    "## Issue 3. Description needs a table of dimensions\n",
    "- Ask it to extract information and organize it in a table."
   ]
  },
  {
   "cell_type": "code",
   "execution_count": 10,
   "id": "0384f1e4",
   "metadata": {
    "height": 557,
    "tags": []
   },
   "outputs": [
    {
     "name": "stdout",
     "output_type": "stream",
     "text": [
      "```html\n",
      "<div>\n",
      "    <h2>Mid-Century Inspired Office Chair</h2>\n",
      "    <p>\n",
      "        Introducing a stunning addition to our mid-century inspired office furniture collection, this office chair is designed to blend seamlessly into both home and business settings. The chair is available in several shell colors and base finishes, allowing for customization to match any decor. Choose between a plastic back with front upholstery (SWC-100) or full upholstery (SWC-110) in a variety of 10 fabric and 6 leather options. The base finishes include stainless steel, matte black, gloss white, or chrome, providing a sleek and modern look.\n",
      "    </p>\n",
      "    <p>\n",
      "        Constructed with a 5-wheel plastic coated aluminum base, this chair ensures durability and mobility. The pneumatic chair adjust feature allows for easy height adjustments, making it suitable for various desk heights. The chair is available with or without armrests, and offers soft or hard-floor caster options to suit different flooring types. Additionally, you can choose between two seat foam densities: medium (1.8 lb/ft3) or high (2.8 lb/ft3), ensuring maximum comfort.\n",
      "    </p>\n",
      "    <p>\n",
      "        The shell base glider is made from cast aluminum with a modified nylon PA6/PA66 coating, providing a robust and long-lasting structure. The shell thickness is 10 mm, and the seat is made from high-density HD36 foam, offering excellent support. This chair is qualified for contract use, making it a reliable choice for commercial environments.\n",
      "    </p>\n",
      "    <p>\n",
      "        Proudly made in Italy, this office chair combines style, comfort, and functionality, making it a perfect addition to any workspace.\n",
      "    </p>\n",
      "    <p>Product IDs: SWC-100, SWC-110</p>\n",
      "</div>\n",
      "\n",
      "<table>\n",
      "    <caption>Product Dimensions</caption>\n",
      "    <tr>\n",
      "        <td>Width</td>\n",
      "        <td>20.87”</td>\n",
      "    </tr>\n",
      "    <tr>\n",
      "        <td>Depth</td>\n",
      "        <td>20.08”</td>\n",
      "    </tr>\n",
      "    <tr>\n",
      "        <td>Height</td>\n",
      "        <td>31.50”</td>\n",
      "    </tr>\n",
      "    <tr>\n",
      "        <td>Seat Height</td>\n",
      "        <td>17.32”</td>\n",
      "    </tr>\n",
      "    <tr>\n",
      "        <td>Seat Depth</td>\n",
      "        <td>16.14”</td>\n",
      "    </tr>\n",
      "</table>\n",
      "```\n"
     ]
    }
   ],
   "source": [
    "prompt = f\"\"\"\n",
    "Your task is to help a marketing team create a \n",
    "description for a retail website of a product based \n",
    "on a technical fact sheet.\n",
    "\n",
    "Write a product description based on the information \n",
    "provided in the technical specifications delimited by \n",
    "triple backticks.\n",
    "\n",
    "The description is intended for furniture retailers, \n",
    "so should be technical in nature and focus on the \n",
    "materials the product is constructed from.\n",
    "\n",
    "At the end of the description, include every 7-character \n",
    "Product ID in the technical specification.\n",
    "\n",
    "After the description, include a table that gives the \n",
    "product's dimensions. The table should have two columns.\n",
    "In the first column include the name of the dimension. \n",
    "In the second column include the measurements in inches only.\n",
    "\n",
    "Give the table the title 'Product Dimensions'.\n",
    "\n",
    "Format everything as HTML that can be used in a website. \n",
    "Place the description in a <div> element.\n",
    "\n",
    "Technical specifications: ```{fact_sheet_chair}```\n",
    "\"\"\"\n",
    "\n",
    "response = get_completion(prompt, client)\n",
    "print(response)"
   ]
  },
  {
   "cell_type": "markdown",
   "id": "d681db67-6d59-40c1-a36b-4d76729a690d",
   "metadata": {},
   "source": [
    "## Load Python libraries to view HTML"
   ]
  },
  {
   "cell_type": "code",
   "execution_count": 11,
   "id": "73ff0052",
   "metadata": {
    "height": 30,
    "tags": []
   },
   "outputs": [],
   "source": [
    "from IPython.display import display, HTML"
   ]
  },
  {
   "cell_type": "code",
   "execution_count": 12,
   "id": "3465ffce",
   "metadata": {
    "height": 30,
    "tags": []
   },
   "outputs": [
    {
     "data": {
      "text/html": [
       "```html\n",
       "<div>\n",
       "    <h2>Mid-Century Inspired Office Chair</h2>\n",
       "    <p>\n",
       "        Introducing a stunning addition to our mid-century inspired office furniture collection, this office chair is designed to blend seamlessly into both home and business settings. The chair is available in several shell colors and base finishes, allowing for customization to match any decor. Choose between a plastic back with front upholstery (SWC-100) or full upholstery (SWC-110) in a variety of 10 fabric and 6 leather options. The base finishes include stainless steel, matte black, gloss white, or chrome, providing a sleek and modern look.\n",
       "    </p>\n",
       "    <p>\n",
       "        Constructed with a 5-wheel plastic coated aluminum base, this chair ensures durability and mobility. The pneumatic chair adjust feature allows for easy height adjustments, making it suitable for various desk heights. The chair is available with or without armrests, and offers soft or hard-floor caster options to suit different flooring types. Additionally, you can choose between two seat foam densities: medium (1.8 lb/ft3) or high (2.8 lb/ft3), ensuring maximum comfort.\n",
       "    </p>\n",
       "    <p>\n",
       "        The shell base glider is made from cast aluminum with a modified nylon PA6/PA66 coating, providing a robust and long-lasting structure. The shell thickness is 10 mm, and the seat is made from high-density HD36 foam, offering excellent support. This chair is qualified for contract use, making it a reliable choice for commercial environments.\n",
       "    </p>\n",
       "    <p>\n",
       "        Proudly made in Italy, this office chair combines style, comfort, and functionality, making it a perfect addition to any workspace.\n",
       "    </p>\n",
       "    <p>Product IDs: SWC-100, SWC-110</p>\n",
       "</div>\n",
       "\n",
       "<table>\n",
       "    <caption>Product Dimensions</caption>\n",
       "    <tr>\n",
       "        <td>Width</td>\n",
       "        <td>20.87”</td>\n",
       "    </tr>\n",
       "    <tr>\n",
       "        <td>Depth</td>\n",
       "        <td>20.08”</td>\n",
       "    </tr>\n",
       "    <tr>\n",
       "        <td>Height</td>\n",
       "        <td>31.50”</td>\n",
       "    </tr>\n",
       "    <tr>\n",
       "        <td>Seat Height</td>\n",
       "        <td>17.32”</td>\n",
       "    </tr>\n",
       "    <tr>\n",
       "        <td>Seat Depth</td>\n",
       "        <td>16.14”</td>\n",
       "    </tr>\n",
       "</table>\n",
       "```"
      ],
      "text/plain": [
       "<IPython.core.display.HTML object>"
      ]
     },
     "metadata": {},
     "output_type": "display_data"
    }
   ],
   "source": [
    "display(HTML(response))"
   ]
  },
  {
   "cell_type": "markdown",
   "id": "8ed02a02-9e12-4f63-97bd-f52064b18666",
   "metadata": {},
   "source": [
    "## Try experimenting on your own!"
   ]
  },
  {
   "cell_type": "code",
   "execution_count": null,
   "id": "dbe1f850",
   "metadata": {
    "height": 30
   },
   "outputs": [],
   "source": []
  }
 ],
 "metadata": {
  "kernelspec": {
   "display_name": "Python 3 (ipykernel)",
   "language": "python",
   "name": "python3"
  },
  "language_info": {
   "codemirror_mode": {
    "name": "ipython",
    "version": 3
   },
   "file_extension": ".py",
   "mimetype": "text/x-python",
   "name": "python",
   "nbconvert_exporter": "python",
   "pygments_lexer": "ipython3",
   "version": "3.12.3"
  }
 },
 "nbformat": 4,
 "nbformat_minor": 5
}
