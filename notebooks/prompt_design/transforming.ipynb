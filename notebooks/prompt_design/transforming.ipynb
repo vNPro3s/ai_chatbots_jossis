{
 "cells": [
  {
   "cell_type": "markdown",
   "id": "e3993515-9710-4ac4-89e9-b35ebb81e920",
   "metadata": {
    "id": "rhqRhkElpJ0z"
   },
   "source": [
    "# Transforming\n",
    "\n",
    "In this notebook, we will explore how to use Large Language Models for text transformation tasks such as language translation, spelling and grammar checking, tone adjustment, and format conversion. This notebook mostly resamble DeepLearning.AI notebook!\n",
    "\n",
    "## Setup"
   ]
  },
  {
   "cell_type": "code",
   "execution_count": 1,
   "id": "41df0348",
   "metadata": {
    "height": 133,
    "tags": []
   },
   "outputs": [
    {
     "name": "stdout",
     "output_type": "stream",
     "text": [
      "Everything is fine :-)\n"
     ]
    }
   ],
   "source": [
    "import os\n",
    "from openai import OpenAI\n",
    "from dotenv import load_dotenv\n",
    "from aux_functions import get_completion\n",
    "\n",
    "env_path = os.path.join(os.getcwd(), '.env')\n",
    "# loading the environment variables\n",
    "load_dotenv(dotenv_path=env_path)\n",
    "print(\"Everything is fine :-)\")"
   ]
  },
  {
   "cell_type": "code",
   "execution_count": 2,
   "id": "6a85ee0f",
   "metadata": {
    "height": 166,
    "tags": []
   },
   "outputs": [
    {
     "name": "stdout",
     "output_type": "stream",
     "text": [
      "Client created successfully\n",
      "<openai.OpenAI object at 0x0000020EE2A8AF90>\n"
     ]
    }
   ],
   "source": [
    "# creating base OpenAI client\n",
    "client = OpenAI(api_key=os.getenv('OPENAI_API_KEY'))\n",
    "print(\"Client created successfully\")\n",
    "print(client)"
   ]
  },
  {
   "cell_type": "markdown",
   "id": "1d8f0bd8-628e-4c36-bcd0-2110162f25fc",
   "metadata": {
    "id": "zdxC4c6pwqA5"
   },
   "source": [
    "## Translation\n",
    "\n",
    "ChatGPT is trained with sources in many languages. This gives the model the ability to do translation. Here are some examples of how to use this capability."
   ]
  },
  {
   "cell_type": "code",
   "execution_count": 5,
   "id": "9c4df6ff",
   "metadata": {
    "height": 115,
    "tags": []
   },
   "outputs": [
    {
     "name": "stdout",
     "output_type": "stream",
     "text": [
      "Ciao, vorrei ordinare un frullatore.\n"
     ]
    }
   ],
   "source": [
    "prompt = f\"\"\"\n",
    "Translate the following English text to Italian: \\\n",
    "```Hi, I would like to order a blender```\n",
    "\"\"\"\n",
    "response = get_completion(prompt, client)\n",
    "print(response)"
   ]
  },
  {
   "cell_type": "code",
   "execution_count": 6,
   "id": "7300ed9b",
   "metadata": {
    "height": 115,
    "tags": []
   },
   "outputs": [
    {
     "name": "stdout",
     "output_type": "stream",
     "text": [
      "The sentence \"Combien coûte le lampadaire?\" is in French. It translates to \"How much does the street lamp cost?\" in English.\n"
     ]
    }
   ],
   "source": [
    "prompt = f\"\"\"\n",
    "Tell me which language this is: \n",
    "```Combien coûte le lampadaire?```\n",
    "\"\"\"\n",
    "response = get_completion(prompt, client)\n",
    "print(response)"
   ]
  },
  {
   "cell_type": "code",
   "execution_count": 7,
   "id": "791e789b",
   "metadata": {
    "height": 132,
    "tags": []
   },
   "outputs": [
    {
     "name": "stdout",
     "output_type": "stream",
     "text": [
      "Sure, here are the translations:\n",
      "\n",
      "**German:**\n",
      "```Ich möchte einen Basketball bestellen```\n",
      "\n",
      "**Italian:**\n",
      "```Voglio ordinare un pallone da basket```\n",
      "\n",
      "**English Pirate:**\n",
      "```Arrr, I be wantin' to order a basketball, matey!```\n"
     ]
    }
   ],
   "source": [
    "prompt = f\"\"\"\n",
    "Translate the following  text to German and Italian\n",
    "and English pirate: \\\n",
    "```I want to order a basketball```\n",
    "\"\"\"\n",
    "response = get_completion(prompt, client)\n",
    "print(response)"
   ]
  },
  {
   "cell_type": "code",
   "execution_count": 8,
   "id": "fcf7eb63",
   "metadata": {
    "height": 132,
    "tags": []
   },
   "outputs": [
    {
     "name": "stdout",
     "output_type": "stream",
     "text": [
      "Sure! Here are the translations:\n",
      "\n",
      "**Formal:**\n",
      "\"Desidera ordinare un cuscino?\"\n",
      "\n",
      "**Informal:**\n",
      "\"Vuoi ordinare un cuscino?\"\n"
     ]
    }
   ],
   "source": [
    "prompt = f\"\"\"\n",
    "Translate the following text to Italian in both the \\\n",
    "formal and informal forms: \n",
    "'Would you like to order a pillow?'\n",
    "\"\"\"\n",
    "response = get_completion(prompt, client)\n",
    "print(response)"
   ]
  },
  {
   "cell_type": "markdown",
   "id": "8edb56d2-a32a-470f-9f40-4fc5b1ea0849",
   "metadata": {
    "id": "-hN2bczQrRC1"
   },
   "source": [
    "### Universal Translator\n",
    "Imagine you are in charge of IT at a large multinational e-commerce company. Users are messaging you with IT issues in all their native languages. Your staff is from all over the world and speaks only their native languages. You need a universal translator!"
   ]
  },
  {
   "cell_type": "code",
   "execution_count": 9,
   "id": "68a40bf0",
   "metadata": {
    "height": 149,
    "tags": []
   },
   "outputs": [],
   "source": [
    "user_messages = [\n",
    "  \"La performance du système est plus lente que d'habitude.\",  # System performance is slower than normal         \n",
    "  \"Mi monitor tiene píxeles que no se iluminan.\",              # My monitor has pixels that are not lighting\n",
    "  \"Il mio mouse non funziona\",                                 # My mouse is not working\n",
    "  \"Mój klawisz Ctrl jest zepsuty\",                             # My keyboard has a broken control key\n",
    "  \"我的屏幕在闪烁\"                                               # My screen is flashing\n",
    "] "
   ]
  },
  {
   "cell_type": "code",
   "execution_count": 10,
   "id": "552d0db9",
   "metadata": {
    "height": 217,
    "tags": []
   },
   "outputs": [
    {
     "name": "stdout",
     "output_type": "stream",
     "text": [
      "Original message (The sentence \"La performance du système est plus lente que d'habitude.\" is in French. It translates to \"The performance of the system is slower than usual.\" in English.): La performance du système est plus lente que d'habitude.\n",
      "Sure, here is the translation of the text:\n",
      "\n",
      "**English:** The system's performance is slower than usual.\n",
      "\n",
      "**German:** Die Systemleistung ist langsamer als gewöhnlich. \n",
      "\n",
      "Original message (The sentence \"Mi monitor tiene píxeles que no se iluminan.\" is in Spanish. It translates to \"My monitor has pixels that do not light up.\" in English.): Mi monitor tiene píxeles que no se iluminan.\n",
      "Sure, here is the translation of the text:\n",
      "\n",
      "**English:** \"My monitor has pixels that do not light up.\"\n",
      "\n",
      "**German:** \"Mein Monitor hat Pixel, die nicht leuchten.\" \n",
      "\n",
      "Original message (The phrase \"Il mio mouse non funziona\" is in Italian. It translates to \"My mouse does not work\" in English.): Il mio mouse non funziona\n",
      "Sure! Here is the translation of the text \"Il mio mouse non funziona\":\n",
      "\n",
      "**English:** My mouse is not working.\n",
      "\n",
      "**German:** Meine Maus funktioniert nicht. \n",
      "\n",
      "Original message (The sentence \"Mój klawisz Ctrl jest zepsuty\" is in Polish. It translates to \"My Ctrl key is broken\" in English.): Mój klawisz Ctrl jest zepsuty\n",
      "Sure, here is the translation:\n",
      "\n",
      "**English:** My Ctrl key is broken.\n",
      "\n",
      "**German:** Meine Strg-Taste ist kaputt. \n",
      "\n",
      "Original message (The text ```我的屏幕在闪烁``` is in Chinese. It translates to \"My screen is flickering\" in English.): 我的屏幕在闪烁\n",
      "Sure, here is the translation:\n",
      "\n",
      "**English:** My screen is flickering.\n",
      "\n",
      "**German:** Mein Bildschirm flackert. \n",
      "\n"
     ]
    }
   ],
   "source": [
    "for issue in user_messages:\n",
    "    prompt = f\"Tell me what language this is: ```{issue}```\"\n",
    "    lang = get_completion(prompt, client)\n",
    "    print(f\"Original message ({lang}): {issue}\")\n",
    "\n",
    "    prompt = f\"\"\"\n",
    "    Translate the following  text to English \\\n",
    "    and German: ```{issue}```\n",
    "    \"\"\"\n",
    "    response = get_completion(prompt, client)\n",
    "    print(response, \"\\n\")"
   ]
  },
  {
   "cell_type": "markdown",
   "id": "18e660eb-324f-474c-acf3-7e3bf5b7c70e",
   "metadata": {},
   "source": [
    "## Try it yourself!\n",
    "Try some translations on your own!"
   ]
  },
  {
   "cell_type": "code",
   "execution_count": null,
   "id": "fa57158f-d77d-42d1-94fe-17fa59c012f8",
   "metadata": {
    "height": 30
   },
   "outputs": [],
   "source": []
  },
  {
   "cell_type": "markdown",
   "id": "1d9e54ca-f93a-43c8-a295-bff7a89f77f5",
   "metadata": {
    "id": "JH3-0vdjsILh"
   },
   "source": [
    "## Tone Transformation\n",
    "Writing can vary based on the intended audience. ChatGPT can produce different tones.\n"
   ]
  },
  {
   "cell_type": "code",
   "execution_count": 11,
   "id": "2deac328",
   "metadata": {
    "height": 132,
    "tags": []
   },
   "outputs": [
    {
     "name": "stdout",
     "output_type": "stream",
     "text": [
      "Subject: Review of Standing Lamp Specifications\n",
      "\n",
      "Dear [Recipient's Name],\n",
      "\n",
      "I hope this message finds you well.\n",
      "\n",
      "I am writing to bring to your attention the specifications of a standing lamp that I believe may be of interest to you. Please find the detailed specifications attached for your review.\n",
      "\n",
      "Thank you for your time and consideration.\n",
      "\n",
      "Best regards,\n",
      "\n",
      "Joe\n"
     ]
    }
   ],
   "source": [
    "prompt = f\"\"\"\n",
    "Translate the following from slang to a business letter: \n",
    "'Dude, This is Joe, check out this spec on this standing lamp.'\n",
    "\"\"\"\n",
    "response = get_completion(prompt, client)\n",
    "print(response)"
   ]
  },
  {
   "cell_type": "markdown",
   "id": "a2c7eb73-6b82-442d-b4f8-251c308e89d5",
   "metadata": {
    "id": "p3e9sZh5tWIa"
   },
   "source": [
    "## Format Conversion\n",
    "ChatGPT can translate between formats. The prompt should describe the input and output formats."
   ]
  },
  {
   "cell_type": "code",
   "execution_count": 12,
   "id": "5a37f0a0",
   "metadata": {
    "height": 234,
    "tags": []
   },
   "outputs": [
    {
     "name": "stdout",
     "output_type": "stream",
     "text": [
      "To convert the given JSON-like Python dictionary to an HTML table with column headers and a title, you can follow these steps:\n",
      "\n",
      "1. Extract the data from the dictionary.\n",
      "2. Create an HTML table structure.\n",
      "3. Populate the table with the data.\n",
      "\n",
      "Here's the Python dictionary you provided:\n",
      "```python\n",
      "data = {\n",
      "    'resturant employees': [\n",
      "        {'name': 'Shyam', 'email': 'shyamjaiswal@gmail.com'},\n",
      "        {'name': 'Bob', 'email': 'bob32@gmail.com'},\n",
      "        {'name': 'Jai', 'email': 'jai87@gmail.com'}\n",
      "    ]\n",
      "}\n",
      "```\n",
      "\n",
      "Now, let's create the HTML table:\n",
      "\n",
      "```html\n",
      "<!DOCTYPE html>\n",
      "<html lang=\"en\">\n",
      "<head>\n",
      "    <meta charset=\"UTF-8\">\n",
      "    <meta name=\"viewport\" content=\"width=device-width, initial-scale=1.0\">\n",
      "    <title>Restaurant Employees</title>\n",
      "    <style>\n",
      "        table {\n",
      "            width: 50%;\n",
      "            border-collapse: collapse;\n",
      "            margin: 25px 0;\n",
      "            font-size: 18px;\n",
      "            text-align: left;\n",
      "        }\n",
      "        th, td {\n",
      "            padding: 12px;\n",
      "            border-bottom: 1px solid #ddd;\n",
      "        }\n",
      "        th {\n",
      "            background-color: #f2f2f2;\n",
      "        }\n",
      "    </style>\n",
      "</head>\n",
      "<body>\n",
      "    <h1>Restaurant Employees</h1>\n",
      "    <table>\n",
      "        <thead>\n",
      "            <tr>\n",
      "                <th>Name</th>\n",
      "                <th>Email</th>\n",
      "            </tr>\n",
      "        </thead>\n",
      "        <tbody>\n",
      "            <tr>\n",
      "                <td>Shyam</td>\n",
      "                <td>shyamjaiswal@gmail.com</td>\n",
      "            </tr>\n",
      "            <tr>\n",
      "                <td>Bob</td>\n",
      "                <td>bob32@gmail.com</td>\n",
      "            </tr>\n",
      "            <tr>\n",
      "                <td>Jai</td>\n",
      "                <td>jai87@gmail.com</td>\n",
      "            </tr>\n",
      "        </tbody>\n",
      "    </table>\n",
      "</body>\n",
      "</html>\n",
      "```\n",
      "\n",
      "This HTML code will render a table with the title \"Restaurant Employees\" and the data from the dictionary. The table includes column headers \"Name\" and \"Email\" and rows for each employee. The CSS styles are added to make the table look more presentable.\n"
     ]
    }
   ],
   "source": [
    "data_json = { \"resturant employees\" :[ \n",
    "    {\"name\":\"Shyam\", \"email\":\"shyamjaiswal@gmail.com\"},\n",
    "    {\"name\":\"Bob\", \"email\":\"bob32@gmail.com\"},\n",
    "    {\"name\":\"Jai\", \"email\":\"jai87@gmail.com\"}\n",
    "]}\n",
    "\n",
    "prompt = f\"\"\"\n",
    "Translate the following python dictionary from JSON to an HTML \\\n",
    "table with column headers and title: {data_json}\n",
    "\"\"\"\n",
    "response = get_completion(prompt, client)\n",
    "print(response)"
   ]
  },
  {
   "cell_type": "code",
   "execution_count": 13,
   "id": "481a46b7",
   "metadata": {
    "height": 64,
    "tags": []
   },
   "outputs": [
    {
     "data": {
      "text/html": [
       "To convert the given JSON-like Python dictionary to an HTML table with column headers and a title, you can follow these steps:\n",
       "\n",
       "1. Extract the data from the dictionary.\n",
       "2. Create an HTML table structure.\n",
       "3. Populate the table with the data.\n",
       "\n",
       "Here's the Python dictionary you provided:\n",
       "```python\n",
       "data = {\n",
       "    'resturant employees': [\n",
       "        {'name': 'Shyam', 'email': 'shyamjaiswal@gmail.com'},\n",
       "        {'name': 'Bob', 'email': 'bob32@gmail.com'},\n",
       "        {'name': 'Jai', 'email': 'jai87@gmail.com'}\n",
       "    ]\n",
       "}\n",
       "```\n",
       "\n",
       "Now, let's create the HTML table:\n",
       "\n",
       "```html\n",
       "<!DOCTYPE html>\n",
       "<html lang=\"en\">\n",
       "<head>\n",
       "    <meta charset=\"UTF-8\">\n",
       "    <meta name=\"viewport\" content=\"width=device-width, initial-scale=1.0\">\n",
       "    <title>Restaurant Employees</title>\n",
       "    <style>\n",
       "        table {\n",
       "            width: 50%;\n",
       "            border-collapse: collapse;\n",
       "            margin: 25px 0;\n",
       "            font-size: 18px;\n",
       "            text-align: left;\n",
       "        }\n",
       "        th, td {\n",
       "            padding: 12px;\n",
       "            border-bottom: 1px solid #ddd;\n",
       "        }\n",
       "        th {\n",
       "            background-color: #f2f2f2;\n",
       "        }\n",
       "    </style>\n",
       "</head>\n",
       "<body>\n",
       "    <h1>Restaurant Employees</h1>\n",
       "    <table>\n",
       "        <thead>\n",
       "            <tr>\n",
       "                <th>Name</th>\n",
       "                <th>Email</th>\n",
       "            </tr>\n",
       "        </thead>\n",
       "        <tbody>\n",
       "            <tr>\n",
       "                <td>Shyam</td>\n",
       "                <td>shyamjaiswal@gmail.com</td>\n",
       "            </tr>\n",
       "            <tr>\n",
       "                <td>Bob</td>\n",
       "                <td>bob32@gmail.com</td>\n",
       "            </tr>\n",
       "            <tr>\n",
       "                <td>Jai</td>\n",
       "                <td>jai87@gmail.com</td>\n",
       "            </tr>\n",
       "        </tbody>\n",
       "    </table>\n",
       "</body>\n",
       "</html>\n",
       "```\n",
       "\n",
       "This HTML code will render a table with the title \"Restaurant Employees\" and the data from the dictionary. The table includes column headers \"Name\" and \"Email\" and rows for each employee. The CSS styles are added to make the table look more presentable."
      ],
      "text/plain": [
       "<IPython.core.display.HTML object>"
      ]
     },
     "metadata": {},
     "output_type": "display_data"
    }
   ],
   "source": [
    "from IPython.display import display, Markdown, Latex, HTML, JSON\n",
    "display(HTML(response))"
   ]
  },
  {
   "cell_type": "markdown",
   "id": "2df1824c-534b-45cb-b0c1-3000bba5adbe",
   "metadata": {
    "id": "qLTz16qEzyT_"
   },
   "source": [
    "## Spellcheck/Grammar check.\n",
    "\n",
    "Here are some examples of common grammar and spelling problems and the LLM's response. \n",
    "\n",
    "To signal to the LLM that you want it to proofread your text, you instruct the model to 'proofread' or 'proofread and correct'."
   ]
  },
  {
   "cell_type": "code",
   "execution_count": 14,
   "id": "52d77283",
   "metadata": {
    "height": 319,
    "tags": []
   },
   "outputs": [
    {
     "name": "stdout",
     "output_type": "stream",
     "text": [
      "The girl with the black and white puppies has a ball\n",
      "No errors found\n",
      "Its going to be a long day. Does the car need its oil changed?\n",
      "\n",
      "It's going to be a long day. Does the car need its oil changed?\n",
      "There goes my freedom. They're going to bring their suitcases.\n",
      "You are going to need your notebook\n",
      "That medicine affects my ability to sleep. Have you heard of the butterfly effect?\n",
      "This phrase is to check ChatGPT for spelling ability\n"
     ]
    }
   ],
   "source": [
    "text = [ \n",
    "  \"The girl with the black and white puppies have a ball.\",  # The girl has a ball.\n",
    "  \"Yolanda has her notebook.\", # ok\n",
    "  \"Its going to be a long day. Does the car need it’s oil changed?\",  # Homonyms\n",
    "  \"Their goes my freedom. There going to bring they’re suitcases.\",  # Homonyms\n",
    "  \"Your going to need you’re notebook.\",  # Homonyms\n",
    "  \"That medicine effects my ability to sleep. Have you heard of the butterfly affect?\", # Homonyms\n",
    "  \"This phrase is to cherck chatGPT for speling abilitty\"  # spelling\n",
    "]\n",
    "for t in text:\n",
    "    prompt = f\"\"\"Proofread and correct the following text\n",
    "    and rewrite the corrected version without explanations. If you don't find\n",
    "    and errors, just say \"No errors found\". Don't use \n",
    "    any punctuation around the text:\n",
    "    ```{t}```\"\"\"\n",
    "    response = get_completion(prompt, client)\n",
    "    print(response)"
   ]
  },
  {
   "cell_type": "code",
   "execution_count": null,
   "id": "7543fe7d",
   "metadata": {
    "height": 251,
    "tags": []
   },
   "outputs": [],
   "source": [
    "text = f\"\"\"\n",
    "Got this for my daughter for her birthday cuz she keeps taking \\\n",
    "mine from my room.  Yes, adults also like pandas too.  She takes \\\n",
    "it everywhere with her, and it's super soft and cute.  One of the \\\n",
    "ears is a bit lower than the other, and I don't think that was \\\n",
    "designed to be asymmetrical. It's a bit small for what I paid for it \\\n",
    "though. I think there might be other options that are bigger for \\\n",
    "the same price.  It arrived a day earlier than expected, so I got \\\n",
    "to play with it myself before I gave it to my daughter.\n",
    "\"\"\"\n",
    "prompt = f\"proofread and correct this review: ```{text}```\"\n",
    "response = get_completion(prompt, client)\n",
    "print(response)"
   ]
  },
  {
   "cell_type": "code",
   "execution_count": 20,
   "id": "8e82ba2c",
   "metadata": {},
   "outputs": [
    {
     "name": "stdout",
     "output_type": "stream",
     "text": [
      "<class 'str'>\n",
      "The girl with the black and white puppies have a ball. Yolanda has her notebook. Its going to be a long day. Does the car need it’s oil changed? Their goes my freedom. There going to bring they’re suitcases. Your going to need you’re notebook. That medicine effects my ability to sleep. Have you heard of the butterfly affect? This phrase is to cherck chatGPT for speling abilitty\n"
     ]
    }
   ],
   "source": [
    "print(type(text[0]))\n",
    "# transform text to one string\n",
    "string_text = ' '.join(text)\n",
    "print(string_text)\n"
   ]
  },
  {
   "cell_type": "code",
   "execution_count": 21,
   "id": "11ac80a0",
   "metadata": {
    "height": 81,
    "tags": []
   },
   "outputs": [
    {
     "data": {
      "text/markdown": [
       "<span style='color:green;font-weight:700;'>```markdown </span>\n",
       "\n",
       "<span style='color:green;font-weight:700;'># Review of Common Grammatical Errors </span>\n",
       "\n",
       "<span style='color:green;font-weight:700;'>The following sentences contain a variety of common grammatical errors. This review aims to identify and correct these mistakes, providing a more polished and compelling narrative. The corrections adhere to the APA style guide and are intended for an advanced readership. </span>\n",
       "\n",
       "<span style='color:green;font-weight:700;'>1. **Original**: </span>The girl with the black and white puppies have a ball. <span style='color:green;font-weight:700;'></span>\n",
       "\n",
       "<span style='color:green;font-weight:700;'>**Correction**: The girl with the black and white puppies has a ball. </span>\n",
       "\n",
       "<span style='color:green;font-weight:700;'>2. **Original**: </span>Yolanda has her notebook. <span style='color:green;font-weight:700;'></span>\n",
       "\n",
       "<span style='color:green;font-weight:700;'>**Correction**: Yolanda has her notebook. *(No correction needed; the sentence is grammatically correct.)* </span>\n",
       "\n",
       "<span style='color:green;font-weight:700;'>3. **Original**: </span>Its going to be a long day. Does the car need it’s oil changed? <span style='color:green;font-weight:700;'></span>\n",
       "\n",
       "<span style='color:green;font-weight:700;'>**Correction**: It's going to be a long day. Does the car need its oil changed? </span>\n",
       "\n",
       "<span style='color:green;font-weight:700;'>4. **Original**: </span>Their goes my freedom. There going to bring they’re suitcases. <span style='color:green;font-weight:700;'></span>\n",
       "\n",
       "<span style='color:green;font-weight:700;'>**Correction**: There goes my freedom. They're going to bring their suitcases. </span>\n",
       "\n",
       "<span style='color:green;font-weight:700;'>5. **Original**: </span>Your going to need you’re notebook. <span style='color:green;font-weight:700;'></span>\n",
       "\n",
       "<span style='color:green;font-weight:700;'>**Correction**: You're going to need your notebook. </span>\n",
       "\n",
       "<span style='color:green;font-weight:700;'>6. **Original**: </span>That medicine effects my ability to sleep. Have you heard of the butterfly affect? <span style='color:green;font-weight:700;'></span>\n",
       "\n",
       "<span style='color:green;font-weight:700;'>**Correction**: That medicine affects my ability to sleep. Have you heard of the butterfly effect? </span>\n",
       "\n",
       "<span style='color:green;font-weight:700;'>7. **Original**: </span>This phrase is to cherck chatGPT for speling <span style='color:red;font-weight:700;text-decoration:line-through;'>abilitty</span><span style='color:green;font-weight:700;'>abilitty. </span>\n",
       "\n",
       "<span style='color:green;font-weight:700;'>**Correction**: This phrase is to check ChatGPT for spelling ability. </span>\n",
       "\n",
       "<span style='color:green;font-weight:700;'>By addressing these errors, the sentences are not only grammatically correct but also more engaging and easier to read. This exercise underscores the importance of meticulous proofreading and a strong grasp of grammar to enhance the clarity and impact of written communication. </span>\n",
       "\n",
       "<span style='color:green;font-weight:700;'>``` </span>\n",
       "\n",
       "<span style='color:green;font-weight:700;'>### References </span>\n",
       "\n",
       "<span style='color:green;font-weight:700;'>American Psychological Association. (2020). *Publication manual of the American Psychological Association* (7th ed.). Washington, DC: Author. </span>\n",
       "\n",
       "<span style='color:green;font-weight:700;'>```</span>"
      ],
      "text/plain": [
       "<IPython.core.display.Markdown object>"
      ]
     },
     "metadata": {},
     "output_type": "display_data"
    }
   ],
   "source": [
    "from redlines import Redlines\n",
    "\n",
    "diff = Redlines(string_text,response)\n",
    "display(Markdown(diff.output_markdown))"
   ]
  },
  {
   "cell_type": "code",
   "execution_count": 15,
   "id": "2b4e73fd",
   "metadata": {
    "height": 166,
    "tags": []
   },
   "outputs": [
    {
     "data": {
      "text/markdown": [
       "```markdown\n",
       "# Review of Common Grammatical Errors\n",
       "\n",
       "The following sentences contain a variety of common grammatical errors. This review aims to identify and correct these mistakes, providing a more polished and compelling narrative. The corrections adhere to the APA style guide and are intended for an advanced readership.\n",
       "\n",
       "1. **Original**: The girl with the black and white puppies have a ball.\n",
       "   **Correction**: The girl with the black and white puppies has a ball.\n",
       "\n",
       "2. **Original**: Yolanda has her notebook.\n",
       "   **Correction**: Yolanda has her notebook. *(No correction needed; the sentence is grammatically correct.)*\n",
       "\n",
       "3. **Original**: Its going to be a long day. Does the car need it’s oil changed?\n",
       "   **Correction**: It's going to be a long day. Does the car need its oil changed?\n",
       "\n",
       "4. **Original**: Their goes my freedom. There going to bring they’re suitcases.\n",
       "   **Correction**: There goes my freedom. They're going to bring their suitcases.\n",
       "\n",
       "5. **Original**: Your going to need you’re notebook.\n",
       "   **Correction**: You're going to need your notebook.\n",
       "\n",
       "6. **Original**: That medicine effects my ability to sleep. Have you heard of the butterfly affect?\n",
       "   **Correction**: That medicine affects my ability to sleep. Have you heard of the butterfly effect?\n",
       "\n",
       "7. **Original**: This phrase is to cherck chatGPT for speling abilitty.\n",
       "   **Correction**: This phrase is to check ChatGPT for spelling ability.\n",
       "\n",
       "By addressing these errors, the sentences are not only grammatically correct but also more engaging and easier to read. This exercise underscores the importance of meticulous proofreading and a strong grasp of grammar to enhance the clarity and impact of written communication.\n",
       "```\n",
       "\n",
       "### References\n",
       "\n",
       "American Psychological Association. (2020). *Publication manual of the American Psychological Association* (7th ed.). Washington, DC: Author.\n",
       "```"
      ],
      "text/plain": [
       "<IPython.core.display.Markdown object>"
      ]
     },
     "metadata": {},
     "output_type": "display_data"
    }
   ],
   "source": [
    "prompt = f\"\"\"\n",
    "proofread and correct this review. Make it more compelling. \n",
    "Ensure it follows APA style guide and targets an advanced reader. \n",
    "Output in markdown format.\n",
    "Text: ```{text}```\n",
    "\"\"\"\n",
    "response = get_completion(prompt, client)\n",
    "display(Markdown(response))"
   ]
  },
  {
   "cell_type": "markdown",
   "id": "63fb76bc-a742-4b35-9dc2-f7fbc12d38fb",
   "metadata": {},
   "source": [
    "## Try it yourself!\n",
    "Try changing the instructions to form your own review."
   ]
  },
  {
   "cell_type": "code",
   "execution_count": null,
   "id": "a2b2ca58",
   "metadata": {
    "height": 30
   },
   "outputs": [],
   "source": []
  },
  {
   "cell_type": "markdown",
   "id": "3dbf5020-7d7f-4ba5-840b-20e883cd7c99",
   "metadata": {
    "id": "unsf1JnRr2IC"
   },
   "source": [
    "Thanks to the following sites:\n",
    "\n",
    "https://writingprompts.com/bad-grammar-examples/\n"
   ]
  }
 ],
 "metadata": {
  "kernelspec": {
   "display_name": "Python 3 (ipykernel)",
   "language": "python",
   "name": "python3"
  },
  "language_info": {
   "codemirror_mode": {
    "name": "ipython",
    "version": 3
   },
   "file_extension": ".py",
   "mimetype": "text/x-python",
   "name": "python",
   "nbconvert_exporter": "python",
   "pygments_lexer": "ipython3",
   "version": "3.12.3"
  }
 },
 "nbformat": 4,
 "nbformat_minor": 5
}
